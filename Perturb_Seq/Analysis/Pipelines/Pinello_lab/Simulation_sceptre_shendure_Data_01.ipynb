{
  "cells": [
    {
      "cell_type": "markdown",
      "metadata": {
        "id": "view-in-github",
        "colab_type": "text"
      },
      "source": [
        "<a href=\"https://colab.research.google.com/github/LucasSilvaFerreira/IGVF_CRISPR_PIPELINES/blob/main/Perturb_Seq/Analysis/Pipelines/Pinello_lab/Simulation_sceptre_shendure_Data_01.ipynb\" target=\"_parent\"><img src=\"https://colab.research.google.com/assets/colab-badge.svg\" alt=\"Open In Colab\"/></a>"
      ]
    },
    {
      "cell_type": "markdown",
      "source": [
        "#Installs"
      ],
      "metadata": {
        "id": "PqT0Wpjpp--z"
      }
    },
    {
      "cell_type": "code",
      "source": [
        "#execute the first time running the session \n",
        "!pip install -q condacolab\n",
        "import condacolab\n",
        "condacolab.install()"
      ],
      "metadata": {
        "id": "T-zZ1_M7AMb2"
      },
      "execution_count": null,
      "outputs": []
    },
    {
      "cell_type": "code",
      "source": [
        "\n",
        "!pip  install anndata"
      ],
      "metadata": {
        "id": "r9oMeYttARXJ"
      },
      "execution_count": null,
      "outputs": []
    },
    {
      "cell_type": "code",
      "source": [
        "!pip3 install --upgrade synapseclient # download synapse client"
      ],
      "metadata": {
        "id": "QRu6L0CrjByd"
      },
      "execution_count": null,
      "outputs": []
    },
    {
      "cell_type": "code",
      "source": [
        "login, passw = open('/content/cred').read().split('\\n') # using my credentials to log in \n",
        "                                                        # it can be stored inside google drive\n",
        "                                                        "
      ],
      "metadata": {
        "id": "J2sLscnWjK-I"
      },
      "execution_count": 2,
      "outputs": []
    },
    {
      "cell_type": "code",
      "source": [
        "import synapseclient\n",
        "import pandas as pd\n",
        "syn = synapseclient.Synapse()\n",
        "syn.login(login, passw)\n"
      ],
      "metadata": {
        "colab": {
          "base_uri": "https://localhost:8080/"
        },
        "id": "j5tKW6Z4jlM4",
        "outputId": "6e74e040-81f4-4277-9bf6-3023e6f7e44d"
      },
      "execution_count": 3,
      "outputs": [
        {
          "output_type": "stream",
          "name": "stdout",
          "text": [
            "Welcome, bioinfolucas@gmail.com!\n",
            "\n"
          ]
        }
      ]
    },
    {
      "cell_type": "code",
      "source": [
        "y_transcription = pd.read_csv(syn.get('syn30840443').path, sep='\\t') # using pandas to open a table directly  Y_transcription.tab = syn30840443\n",
        "X_pheno = pd.read_csv(syn.get('syn30840460').path, sep='\\t') # using pandas to open a table directly  X_pheno.tab = syn30840460"
      ],
      "metadata": {
        "id": "WYvYO7WWk4iM"
      },
      "execution_count": null,
      "outputs": []
    },
    {
      "cell_type": "code",
      "source": [
        "from synapseclient import File\n",
        "# Add a local file to an existing project (syn30981095) on tutorial_IGVF\n",
        "file = File(path='/content/sample_data/mnist_test.csv', parent='syn30981095')\n",
        "file = syn.store(file)"
      ],
      "metadata": {
        "id": "MrG5HJD_le6E",
        "colab": {
          "base_uri": "https://localhost:8080/"
        },
        "outputId": "fd039679-f337-40a9-ae38-6a2b33559e11"
      },
      "execution_count": 7,
      "outputs": [
        {
          "output_type": "stream",
          "name": "stdout",
          "text": [
            "\n",
            "##################################################\n",
            " Uploading file to Synapse storage \n",
            "##################################################\n",
            "\n"
          ]
        }
      ]
    },
    {
      "cell_type": "code",
      "source": [
        "\n"
      ],
      "metadata": {
        "id": "jMtuXZxrBB0w"
      },
      "execution_count": null,
      "outputs": []
    },
    {
      "cell_type": "code",
      "source": [
        ""
      ],
      "metadata": {
        "colab": {
          "base_uri": "https://localhost:8080/"
        },
        "id": "9oK3djEbp4qp",
        "outputId": "c7266e8a-ec7a-47b8-e882-be156488f982"
      },
      "execution_count": null,
      "outputs": [
        {
          "output_type": "stream",
          "name": "stdout",
          "text": [
            "⏬ Downloading https://github.com/jaimergp/miniforge/releases/latest/download/Mambaforge-colab-Linux-x86_64.sh...\n",
            "📦 Installing...\n",
            "📌 Adjusting configuration...\n",
            "🩹 Patching environment...\n",
            "⏲ Done in 0:00:37\n",
            "🔁 Restarting kernel...\n"
          ]
        }
      ]
    },
    {
      "cell_type": "code",
      "source": [
        ""
      ],
      "metadata": {
        "id": "x16xHgR6jFXm"
      },
      "execution_count": null,
      "outputs": []
    },
    {
      "cell_type": "code",
      "source": [
        ""
      ],
      "metadata": {
        "id": "QuBp6tSZjHIn"
      },
      "execution_count": null,
      "outputs": []
    },
    {
      "cell_type": "code",
      "source": [
        ""
      ],
      "metadata": {
        "colab": {
          "base_uri": "https://localhost:8080/"
        },
        "id": "_Ka6SZAUp9ET",
        "outputId": "4ff19bc5-365e-4d96-ffe2-fd164121a407"
      },
      "execution_count": null,
      "outputs": [
        {
          "output_type": "stream",
          "name": "stdout",
          "text": [
            "Collecting anndata\n",
            "  Downloading anndata-0.8.0-py3-none-any.whl (96 kB)\n",
            "\u001b[?25l\r\u001b[K     |███▍                            | 10 kB 24.7 MB/s eta 0:00:01\r\u001b[K     |██████▉                         | 20 kB 26.5 MB/s eta 0:00:01\r\u001b[K     |██████████▎                     | 30 kB 31.9 MB/s eta 0:00:01\r\u001b[K     |█████████████▋                  | 40 kB 25.3 MB/s eta 0:00:01\r\u001b[K     |█████████████████               | 51 kB 21.4 MB/s eta 0:00:01\r\u001b[K     |████████████████████▌           | 61 kB 24.5 MB/s eta 0:00:01\r\u001b[K     |███████████████████████▉        | 71 kB 21.7 MB/s eta 0:00:01\r\u001b[K     |███████████████████████████▎    | 81 kB 23.2 MB/s eta 0:00:01\r\u001b[K     |██████████████████████████████▊ | 92 kB 25.2 MB/s eta 0:00:01\r\u001b[K     |████████████████████████████████| 96 kB 5.1 MB/s \n",
            "\u001b[?25hRequirement already satisfied: importlib_metadata>=0.7 in /usr/local/lib/python3.7/dist-packages (from anndata) (4.11.3)\n",
            "Requirement already satisfied: typing_extensions in /usr/local/lib/python3.7/dist-packages (from anndata) (4.2.0)\n",
            "Requirement already satisfied: natsort in /usr/local/lib/python3.7/dist-packages (from anndata) (5.5.0)\n",
            "Requirement already satisfied: scipy>1.4 in /usr/local/lib/python3.7/dist-packages (from anndata) (1.4.1)\n",
            "Requirement already satisfied: pandas>=1.1.1 in /usr/local/lib/python3.7/dist-packages (from anndata) (1.3.5)\n",
            "Requirement already satisfied: h5py>=3 in /usr/local/lib/python3.7/dist-packages (from anndata) (3.1.0)\n",
            "Requirement already satisfied: packaging>=20 in /usr/local/lib/python3.7/dist-packages (from anndata) (21.3)\n",
            "Requirement already satisfied: numpy>=1.16.5 in /usr/local/lib/python3.7/dist-packages (from anndata) (1.21.6)\n",
            "Requirement already satisfied: cached-property in /usr/local/lib/python3.7/dist-packages (from h5py>=3->anndata) (1.5.2)\n",
            "Requirement already satisfied: zipp>=0.5 in /usr/local/lib/python3.7/dist-packages (from importlib_metadata>=0.7->anndata) (3.8.0)\n",
            "Requirement already satisfied: pyparsing!=3.0.5,>=2.0.2 in /usr/local/lib/python3.7/dist-packages (from packaging>=20->anndata) (3.0.9)\n",
            "Requirement already satisfied: python-dateutil>=2.7.3 in /usr/local/lib/python3.7/dist-packages (from pandas>=1.1.1->anndata) (2.8.2)\n",
            "Requirement already satisfied: pytz>=2017.3 in /usr/local/lib/python3.7/dist-packages (from pandas>=1.1.1->anndata) (2022.1)\n",
            "Requirement already satisfied: six>=1.5 in /usr/local/lib/python3.7/dist-packages (from python-dateutil>=2.7.3->pandas>=1.1.1->anndata) (1.15.0)\n",
            "Installing collected packages: anndata\n",
            "Successfully installed anndata-0.8.0\n"
          ]
        }
      ]
    },
    {
      "cell_type": "code",
      "source": [
        ""
      ],
      "metadata": {
        "id": "AXaI7AHnqdjO"
      },
      "execution_count": null,
      "outputs": []
    },
    {
      "cell_type": "markdown",
      "source": [
        "#Download gasperine 2019 from sceptre repository"
      ],
      "metadata": {
        "id": "TeN0SnCJqCjq"
      }
    },
    {
      "cell_type": "code",
      "execution_count": null,
      "metadata": {
        "colab": {
          "base_uri": "https://localhost:8080/"
        },
        "id": "ub5fuMm-o1lC",
        "outputId": "cef9152f-85bf-436f-c97a-1cac9522c647"
      },
      "outputs": [
        {
          "output_type": "stream",
          "name": "stdout",
          "text": [
            "--2022-05-23 11:06:39--  https://github.com/Katsevich-Lab/sceptre/raw/main/data/gene_gRNA_group_pairs.rda\n",
            "Resolving github.com (github.com)... 140.82.114.3\n",
            "Connecting to github.com (github.com)|140.82.114.3|:443... connected.\n",
            "HTTP request sent, awaiting response... 302 Found\n",
            "Location: https://raw.githubusercontent.com/Katsevich-Lab/sceptre/main/data/gene_gRNA_group_pairs.rda [following]\n",
            "--2022-05-23 11:06:39--  https://raw.githubusercontent.com/Katsevich-Lab/sceptre/main/data/gene_gRNA_group_pairs.rda\n",
            "Resolving raw.githubusercontent.com (raw.githubusercontent.com)... 185.199.108.133, 185.199.109.133, 185.199.111.133, ...\n",
            "Connecting to raw.githubusercontent.com (raw.githubusercontent.com)|185.199.108.133|:443... connected.\n",
            "HTTP request sent, awaiting response... 200 OK\n",
            "Length: 628 [application/octet-stream]\n",
            "Saving to: ‘gene_gRNA_group_pairs.rda’\n",
            "\n",
            "gene_gRNA_group_pai 100%[===================>]     628  --.-KB/s    in 0s      \n",
            "\n",
            "2022-05-23 11:06:40 (22.7 MB/s) - ‘gene_gRNA_group_pairs.rda’ saved [628/628]\n",
            "\n",
            "--2022-05-23 11:06:40--  https://github.com/Katsevich-Lab/sceptre/raw/main/data/gRNA_groups_table.rda\n",
            "Resolving github.com (github.com)... 140.82.114.3\n",
            "Connecting to github.com (github.com)|140.82.114.3|:443... connected.\n",
            "HTTP request sent, awaiting response... 302 Found\n",
            "Location: https://raw.githubusercontent.com/Katsevich-Lab/sceptre/main/data/gRNA_groups_table.rda [following]\n",
            "--2022-05-23 11:06:40--  https://raw.githubusercontent.com/Katsevich-Lab/sceptre/main/data/gRNA_groups_table.rda\n",
            "Resolving raw.githubusercontent.com (raw.githubusercontent.com)... 185.199.108.133, 185.199.110.133, 185.199.109.133, ...\n",
            "Connecting to raw.githubusercontent.com (raw.githubusercontent.com)|185.199.108.133|:443... connected.\n",
            "HTTP request sent, awaiting response... 200 OK\n",
            "Length: 844 [application/octet-stream]\n",
            "Saving to: ‘gRNA_groups_table.rda’\n",
            "\n",
            "gRNA_groups_table.r 100%[===================>]     844  --.-KB/s    in 0s      \n",
            "\n",
            "2022-05-23 11:06:40 (32.3 MB/s) - ‘gRNA_groups_table.rda’ saved [844/844]\n",
            "\n",
            "--2022-05-23 11:06:40--  https://github.com/Katsevich-Lab/sceptre/raw/main/data/gene_matrix.rda\n",
            "Resolving github.com (github.com)... 140.82.113.3\n",
            "Connecting to github.com (github.com)|140.82.113.3|:443... connected.\n",
            "HTTP request sent, awaiting response... 302 Found\n",
            "Location: https://raw.githubusercontent.com/Katsevich-Lab/sceptre/main/data/gene_matrix.rda [following]\n",
            "--2022-05-23 11:06:40--  https://raw.githubusercontent.com/Katsevich-Lab/sceptre/main/data/gene_matrix.rda\n",
            "Resolving raw.githubusercontent.com (raw.githubusercontent.com)... 185.199.108.133, 185.199.109.133, 185.199.110.133, ...\n",
            "Connecting to raw.githubusercontent.com (raw.githubusercontent.com)|185.199.108.133|:443... connected.\n",
            "HTTP request sent, awaiting response... 200 OK\n",
            "Length: 499829 (488K) [application/octet-stream]\n",
            "Saving to: ‘gene_matrix.rda’\n",
            "\n",
            "gene_matrix.rda     100%[===================>] 488.11K  --.-KB/s    in 0.006s  \n",
            "\n",
            "2022-05-23 11:06:40 (83.0 MB/s) - ‘gene_matrix.rda’ saved [499829/499829]\n",
            "\n",
            "--2022-05-23 11:06:40--  https://github.com/Katsevich-Lab/sceptre/raw/main/data/covariate_matrix.rda\n",
            "Resolving github.com (github.com)... 140.82.113.3\n",
            "Connecting to github.com (github.com)|140.82.113.3|:443... connected.\n",
            "HTTP request sent, awaiting response... 302 Found\n",
            "Location: https://raw.githubusercontent.com/Katsevich-Lab/sceptre/main/data/covariate_matrix.rda [following]\n",
            "--2022-05-23 11:06:41--  https://raw.githubusercontent.com/Katsevich-Lab/sceptre/main/data/covariate_matrix.rda\n",
            "Resolving raw.githubusercontent.com (raw.githubusercontent.com)... 185.199.108.133, 185.199.109.133, 185.199.110.133, ...\n",
            "Connecting to raw.githubusercontent.com (raw.githubusercontent.com)|185.199.108.133|:443... connected.\n",
            "HTTP request sent, awaiting response... 200 OK\n",
            "Length: 809207 (790K) [application/octet-stream]\n",
            "Saving to: ‘covariate_matrix.rda’\n",
            "\n",
            "covariate_matrix.rd 100%[===================>] 790.24K  --.-KB/s    in 0.006s  \n",
            "\n",
            "2022-05-23 11:06:41 (120 MB/s) - ‘covariate_matrix.rda’ saved [809207/809207]\n",
            "\n",
            "--2022-05-23 11:06:41--  https://github.com/Katsevich-Lab/sceptre/raw/main/data/gRNA_matrix.rda\n",
            "Resolving github.com (github.com)... 140.82.113.3\n",
            "Connecting to github.com (github.com)|140.82.113.3|:443... connected.\n",
            "HTTP request sent, awaiting response... 302 Found\n",
            "Location: https://raw.githubusercontent.com/Katsevich-Lab/sceptre/main/data/gRNA_matrix.rda [following]\n",
            "--2022-05-23 11:06:41--  https://raw.githubusercontent.com/Katsevich-Lab/sceptre/main/data/gRNA_matrix.rda\n",
            "Resolving raw.githubusercontent.com (raw.githubusercontent.com)... 185.199.108.133, 185.199.109.133, 185.199.110.133, ...\n",
            "Connecting to raw.githubusercontent.com (raw.githubusercontent.com)|185.199.108.133|:443... connected.\n",
            "HTTP request sent, awaiting response... 200 OK\n",
            "Length: 210593 (206K) [application/octet-stream]\n",
            "Saving to: ‘gRNA_matrix.rda’\n",
            "\n",
            "gRNA_matrix.rda     100%[===================>] 205.66K  --.-KB/s    in 0.003s  \n",
            "\n",
            "2022-05-23 11:06:41 (66.2 MB/s) - ‘gRNA_matrix.rda’ saved [210593/210593]\n",
            "\n"
          ]
        }
      ],
      "source": [
        "!wget https://github.com/Katsevich-Lab/sceptre/raw/main/data/gene_gRNA_group_pairs.rda\n",
        "!wget https://github.com/Katsevich-Lab/sceptre/raw/main/data/gRNA_groups_table.rda\n",
        "!wget https://github.com/Katsevich-Lab/sceptre/raw/main/data/gene_matrix.rda\n",
        "!wget https://github.com/Katsevich-Lab/sceptre/raw/main/data/covariate_matrix.rda\n",
        "!wget https://github.com/Katsevich-Lab/sceptre/raw/main/data/gRNA_matrix.rda"
      ]
    },
    {
      "cell_type": "code",
      "source": [
        ""
      ],
      "metadata": {
        "id": "69RRCi2AWrt4"
      },
      "execution_count": null,
      "outputs": []
    },
    {
      "cell_type": "markdown",
      "source": [
        "#Processing data using Rpy2 and Pandas "
      ],
      "metadata": {
        "id": "ErbSWVSqqK5F"
      }
    },
    {
      "cell_type": "code",
      "source": [
        "import rpy2.robjects as ro\n",
        "import pandas as pd\n",
        "import numpy as np\n"
      ],
      "metadata": {
        "id": "RucqlaqUT8eJ"
      },
      "execution_count": null,
      "outputs": []
    },
    {
      "cell_type": "code",
      "source": [
        ""
      ],
      "metadata": {
        "id": "8J5fAXFeT8n4"
      },
      "execution_count": null,
      "outputs": []
    },
    {
      "cell_type": "code",
      "source": [
        "%load_ext rpy2.ipython"
      ],
      "metadata": {
        "id": "aJf3NXvoTbQN"
      },
      "execution_count": null,
      "outputs": []
    },
    {
      "cell_type": "code",
      "source": [
        "%%R\n",
        "x = load('gRNA_matrix.rda')\n"
      ],
      "metadata": {
        "id": "eRgqnwWsTiyT"
      },
      "execution_count": null,
      "outputs": []
    },
    {
      "cell_type": "code",
      "source": [
        "v = %R as.matrix(gRNA_matrix)\n",
        "guide_matrix = pd.DataFrame(ro.conversion.rpy2py(v))\n",
        "guide_matrix.shape"
      ],
      "metadata": {
        "colab": {
          "base_uri": "https://localhost:8080/"
        },
        "id": "x-DlQFgTTrC2",
        "outputId": "ed001d1f-81e0-4ade-8cdc-3e8539349662"
      },
      "execution_count": null,
      "outputs": [
        {
          "output_type": "stream",
          "name": "stderr",
          "text": [
            "R[write to console]: Loading required package: Matrix\n",
            "\n"
          ]
        },
        {
          "output_type": "execute_result",
          "data": {
            "text/plain": [
              "(50, 40000)"
            ]
          },
          "metadata": {},
          "execution_count": 20
        }
      ]
    },
    {
      "cell_type": "code",
      "source": [
        "%%R\n",
        "x = load('covariate_matrix.rda')"
      ],
      "metadata": {
        "id": "XIgNEwABUExy"
      },
      "execution_count": null,
      "outputs": []
    },
    {
      "cell_type": "code",
      "source": [
        " v = %R as.data.frame(covariate_matrix)\n",
        "covariate_matrix = pd.DataFrame(ro.conversion.rpy2py(v))\n",
        "covariate_matrix.shape"
      ],
      "metadata": {
        "colab": {
          "base_uri": "https://localhost:8080/"
        },
        "id": "tYbyoEuDUMVT",
        "outputId": "529bd32d-60ae-4c1e-f662-0de0ac157733"
      },
      "execution_count": null,
      "outputs": [
        {
          "output_type": "execute_result",
          "data": {
            "text/plain": [
              "(40000, 4)"
            ]
          },
          "metadata": {},
          "execution_count": 22
        }
      ]
    },
    {
      "cell_type": "code",
      "source": [
        "%%R\n",
        "x = load('gene_matrix.rda')"
      ],
      "metadata": {
        "id": "6QIAg4bEVRFZ"
      },
      "execution_count": null,
      "outputs": []
    },
    {
      "cell_type": "code",
      "source": [
        "r_row = %R as.matrix(row.names(gene_matrix))\n",
        "row_genes = pd.DataFrame(ro.conversion.rpy2py(r_row), columns=['genes'])"
      ],
      "metadata": {
        "id": "Xq7gKwKTjxaf"
      },
      "execution_count": null,
      "outputs": []
    },
    {
      "cell_type": "code",
      "source": [
        ""
      ],
      "metadata": {
        "id": "vbaDY_K3lBVh"
      },
      "execution_count": null,
      "outputs": []
    },
    {
      "cell_type": "code",
      "source": [
        " v = %R as.matrix(gene_matrix)\n",
        "Gene_matrix = pd.DataFrame(ro.conversion.rpy2py(v))\n",
        "Gene_matrix.shape"
      ],
      "metadata": {
        "colab": {
          "base_uri": "https://localhost:8080/"
        },
        "id": "_YL7xCkTVSe-",
        "outputId": "7d3fad19-5fce-41f5-b2d0-b0f2336bc64e"
      },
      "execution_count": null,
      "outputs": [
        {
          "output_type": "execute_result",
          "data": {
            "text/plain": [
              "(20, 40000)"
            ]
          },
          "metadata": {},
          "execution_count": 25
        }
      ]
    },
    {
      "cell_type": "code",
      "source": [
        ""
      ],
      "metadata": {
        "id": "p6jM-hGSkKOG"
      },
      "execution_count": null,
      "outputs": []
    },
    {
      "cell_type": "code",
      "source": [
        "%%R\n",
        "x = load('gene_gRNA_group_pairs.rda')"
      ],
      "metadata": {
        "id": "NWneR0VJVwGl"
      },
      "execution_count": null,
      "outputs": []
    },
    {
      "cell_type": "code",
      "source": [
        " v = %R as.data.frame(gene_gRNA_group_pairs)\n",
        "gene_gRNA_groups_pairs_Matrix = pd.DataFrame(ro.conversion.rpy2py(v))\n",
        "gene_gRNA_groups_pairs_Matrix.shape"
      ],
      "metadata": {
        "colab": {
          "base_uri": "https://localhost:8080/"
        },
        "id": "IrulCR_YVzD_",
        "outputId": "61b580ce-ef31-4de0-ce91-77f6461e2236"
      },
      "execution_count": null,
      "outputs": [
        {
          "output_type": "execute_result",
          "data": {
            "text/plain": [
              "(120, 3)"
            ]
          },
          "metadata": {},
          "execution_count": 27
        }
      ]
    },
    {
      "cell_type": "code",
      "source": [
        "%%R\n",
        "x = load('gRNA_groups_table.rda')"
      ],
      "metadata": {
        "id": "qlCpWsG9WyBP"
      },
      "execution_count": null,
      "outputs": []
    },
    {
      "cell_type": "code",
      "source": [
        " v = %R as.data.frame(gRNA_groups_table)\n",
        "gRNA_groups_table = pd.DataFrame(ro.conversion.rpy2py(v))\n",
        "gRNA_groups_table.shape"
      ],
      "metadata": {
        "colab": {
          "base_uri": "https://localhost:8080/"
        },
        "id": "F1LH8PWXWzra",
        "outputId": "75ecc78e-265f-4c7c-e082-481c97deaba4"
      },
      "execution_count": null,
      "outputs": [
        {
          "output_type": "execute_result",
          "data": {
            "text/plain": [
              "(50, 3)"
            ]
          },
          "metadata": {},
          "execution_count": 29
        }
      ]
    },
    {
      "cell_type": "code",
      "source": [
        "guide_matrix"
      ],
      "metadata": {
        "colab": {
          "base_uri": "https://localhost:8080/",
          "height": 1000
        },
        "id": "DSRScQg8mXAo",
        "outputId": "0dd32982-4737-433d-c6fd-0ba2d076e4c4"
      },
      "execution_count": null,
      "outputs": [
        {
          "output_type": "execute_result",
          "data": {
            "text/plain": [
              "    0      1      2      3      4      5      6      7      8      9      ...  \\\n",
              "0     0.0    0.0    0.0    0.0    0.0    0.0    0.0    0.0    0.0    0.0  ...   \n",
              "1     0.0    0.0    0.0    0.0    0.0    0.0    0.0    0.0    0.0    0.0  ...   \n",
              "2     0.0    0.0    0.0    0.0    0.0    0.0    0.0    0.0    0.0    0.0  ...   \n",
              "3     0.0    0.0    0.0    0.0    0.0    0.0    0.0    0.0    0.0    0.0  ...   \n",
              "4     0.0    0.0    0.0    0.0    0.0    0.0    0.0    0.0    0.0    0.0  ...   \n",
              "5     0.0    0.0    3.0    0.0    0.0    0.0    0.0    0.0    0.0    0.0  ...   \n",
              "6     0.0    0.0    0.0    0.0    0.0    0.0    0.0    0.0    0.0    0.0  ...   \n",
              "7     0.0    0.0    0.0    0.0    0.0    0.0    0.0    0.0    0.0    0.0  ...   \n",
              "8     0.0    0.0    0.0    0.0    0.0    0.0    0.0    0.0    0.0    0.0  ...   \n",
              "9     0.0    0.0    0.0    0.0    0.0    0.0    0.0    0.0    0.0    0.0  ...   \n",
              "10    0.0    0.0    0.0    0.0    0.0    0.0    0.0    0.0    0.0    0.0  ...   \n",
              "11    0.0    0.0    0.0    0.0    0.0    0.0    0.0    0.0    0.0    0.0  ...   \n",
              "12    0.0    0.0    0.0    0.0    0.0    0.0    0.0    0.0    0.0    0.0  ...   \n",
              "13    0.0    0.0    0.0    0.0    0.0    0.0    0.0    0.0    0.0    0.0  ...   \n",
              "14    0.0    0.0    0.0    0.0    0.0    0.0    0.0    0.0    0.0    0.0  ...   \n",
              "15    0.0    0.0    0.0    0.0    0.0    0.0    0.0    0.0    0.0    0.0  ...   \n",
              "16    0.0    0.0    0.0    0.0    0.0    0.0    0.0    0.0    0.0    0.0  ...   \n",
              "17    0.0    0.0    0.0    0.0    0.0    0.0    0.0    0.0    0.0    0.0  ...   \n",
              "18    0.0    0.0    0.0    0.0    0.0    0.0    0.0    0.0    0.0    0.0  ...   \n",
              "19    0.0    0.0    0.0    0.0    0.0    0.0    0.0    0.0    0.0    0.0  ...   \n",
              "20    0.0    0.0    0.0    0.0    0.0    0.0    0.0    0.0    0.0    0.0  ...   \n",
              "21    0.0    0.0    0.0    0.0    0.0    0.0    0.0    0.0    0.0    0.0  ...   \n",
              "22    0.0    0.0    0.0    0.0    0.0    0.0    0.0    0.0    0.0    0.0  ...   \n",
              "23    0.0    0.0    0.0    0.0   47.0    0.0    0.0    0.0    0.0    0.0  ...   \n",
              "24    0.0    0.0    0.0    0.0    0.0    0.0    0.0    0.0    0.0    0.0  ...   \n",
              "25    0.0    0.0    0.0    0.0    0.0    0.0    0.0    0.0    0.0    0.0  ...   \n",
              "26    0.0    0.0    0.0    0.0    0.0    0.0    0.0    0.0    0.0    0.0  ...   \n",
              "27    0.0    0.0    0.0    0.0    0.0    0.0    0.0    0.0    0.0    0.0  ...   \n",
              "28    0.0    0.0    0.0    0.0    0.0    0.0    0.0    0.0    0.0    0.0  ...   \n",
              "29    0.0    0.0    0.0    0.0    0.0    0.0    0.0    0.0    0.0    0.0  ...   \n",
              "30    0.0    0.0    0.0    0.0    0.0    0.0    0.0    0.0    0.0    0.0  ...   \n",
              "31    0.0    0.0    0.0    0.0    0.0    0.0    0.0    0.0    0.0    0.0  ...   \n",
              "32    0.0    0.0    0.0    0.0    0.0    0.0    0.0    0.0    0.0    0.0  ...   \n",
              "33    0.0    0.0    0.0    0.0    0.0    0.0    0.0    0.0    0.0    0.0  ...   \n",
              "34    0.0    0.0    0.0    0.0    0.0    0.0    0.0    0.0    0.0    0.0  ...   \n",
              "35    0.0    0.0    0.0    0.0    0.0    0.0    0.0    0.0    0.0    0.0  ...   \n",
              "36    0.0    0.0    0.0    0.0    0.0    0.0    0.0    0.0    0.0    0.0  ...   \n",
              "37    0.0    0.0    0.0    0.0    0.0    0.0    0.0    0.0    0.0    0.0  ...   \n",
              "38    0.0    0.0    0.0    0.0    0.0    0.0    0.0    0.0    0.0    0.0  ...   \n",
              "39    0.0    0.0    0.0    0.0    0.0    0.0    0.0    0.0    0.0    0.0  ...   \n",
              "40    0.0    0.0    0.0    0.0    0.0    0.0    0.0    0.0    0.0    0.0  ...   \n",
              "41    0.0    0.0    0.0    0.0    0.0    0.0    0.0    0.0    0.0    0.0  ...   \n",
              "42    0.0    0.0    0.0    0.0    0.0    0.0    0.0    0.0    0.0    0.0  ...   \n",
              "43    0.0    0.0    0.0    0.0    0.0    0.0    0.0    0.0    0.0    0.0  ...   \n",
              "44    0.0    0.0    0.0    0.0    0.0    0.0    0.0    0.0    0.0    0.0  ...   \n",
              "45    0.0    0.0    0.0    0.0    0.0    0.0    0.0    0.0    0.0    0.0  ...   \n",
              "46    0.0    0.0    0.0    0.0    0.0    0.0    0.0    0.0    0.0    0.0  ...   \n",
              "47    0.0    0.0    0.0    0.0    0.0    0.0    0.0    0.0    0.0    0.0  ...   \n",
              "48    0.0    0.0    0.0    0.0    0.0    0.0    0.0    0.0    0.0    0.0  ...   \n",
              "49    0.0    0.0    0.0    0.0    0.0    0.0    0.0    0.0    0.0    0.0  ...   \n",
              "\n",
              "    39990  39991  39992  39993  39994  39995  39996  39997  39998  39999  \n",
              "0     0.0    0.0    0.0    0.0    0.0    0.0    0.0    0.0    0.0    0.0  \n",
              "1     0.0    0.0    0.0    0.0    0.0    0.0    0.0    0.0    0.0    0.0  \n",
              "2     0.0    0.0    0.0    0.0    0.0    0.0    0.0    0.0    0.0    0.0  \n",
              "3     0.0    0.0    0.0    0.0    0.0    0.0    0.0    0.0    0.0    0.0  \n",
              "4     0.0    0.0    0.0    0.0    0.0    0.0    0.0    0.0    0.0    0.0  \n",
              "5     0.0    0.0    0.0    0.0    0.0    0.0    0.0    0.0    0.0    0.0  \n",
              "6     0.0    0.0    0.0    0.0    0.0    0.0    0.0    0.0    0.0    0.0  \n",
              "7     0.0    0.0    0.0    0.0    0.0    0.0    0.0    0.0    0.0    0.0  \n",
              "8     0.0    0.0    0.0    0.0    0.0    0.0    0.0    0.0    0.0    0.0  \n",
              "9     0.0    0.0    0.0    0.0    0.0    0.0    0.0    0.0    0.0    0.0  \n",
              "10    0.0    0.0    0.0    0.0    0.0    0.0    0.0    0.0    0.0    0.0  \n",
              "11    0.0    0.0    0.0    0.0    0.0    0.0    0.0    0.0    0.0    0.0  \n",
              "12    0.0    0.0   23.0    0.0    0.0    0.0    0.0    0.0    0.0    0.0  \n",
              "13    0.0    0.0    0.0    0.0    0.0    0.0    0.0    0.0    0.0    0.0  \n",
              "14    0.0    0.0    0.0    0.0    0.0    0.0    0.0    0.0    0.0    0.0  \n",
              "15    0.0    0.0    0.0    0.0    0.0    0.0    0.0    0.0    0.0    0.0  \n",
              "16    0.0    0.0    0.0    0.0    0.0    0.0    0.0    0.0    0.0    0.0  \n",
              "17    0.0    0.0    0.0    0.0    0.0    0.0    0.0    0.0    0.0    0.0  \n",
              "18    0.0    0.0    0.0    0.0    0.0    0.0    0.0    0.0    0.0    0.0  \n",
              "19    0.0    0.0    0.0    0.0    0.0    0.0    0.0    0.0    0.0    0.0  \n",
              "20    0.0    0.0    0.0    0.0    0.0    0.0    0.0    0.0    0.0    0.0  \n",
              "21    0.0    0.0    0.0    0.0    0.0    0.0    0.0    0.0    0.0    0.0  \n",
              "22    0.0    0.0    0.0    0.0    0.0    0.0    0.0    0.0    0.0    0.0  \n",
              "23    0.0    0.0    0.0    0.0    0.0    0.0    0.0    0.0    0.0    0.0  \n",
              "24    0.0    0.0    0.0    0.0    0.0    0.0    0.0    0.0    0.0    0.0  \n",
              "25    0.0    0.0    0.0    0.0    0.0    0.0    0.0    0.0    0.0    0.0  \n",
              "26    0.0    0.0    0.0    0.0    0.0    0.0    0.0    0.0    0.0    0.0  \n",
              "27    0.0    0.0    0.0    0.0    0.0    0.0    0.0    0.0    0.0    0.0  \n",
              "28    0.0    0.0    0.0    0.0    0.0    0.0    0.0    0.0    0.0    0.0  \n",
              "29    0.0    0.0    0.0    0.0    0.0    0.0    0.0    0.0    0.0    0.0  \n",
              "30    0.0    0.0    0.0    0.0    0.0    0.0    0.0    0.0    0.0    0.0  \n",
              "31    0.0    0.0    0.0    0.0    0.0    0.0    0.0    0.0    0.0    0.0  \n",
              "32    0.0    0.0    0.0    0.0    0.0    0.0    0.0    0.0    0.0    0.0  \n",
              "33    0.0    0.0    0.0    0.0    0.0    0.0    0.0    0.0    0.0    0.0  \n",
              "34    0.0    0.0    0.0    0.0    0.0    0.0    0.0    0.0    0.0    0.0  \n",
              "35    0.0    0.0    0.0    0.0    0.0    0.0    0.0    0.0    0.0    0.0  \n",
              "36    0.0    0.0    0.0    0.0    0.0    0.0    0.0    0.0    0.0    0.0  \n",
              "37    0.0    0.0    0.0    0.0    0.0    0.0    0.0    0.0    0.0    0.0  \n",
              "38    0.0    0.0    0.0    0.0    0.0    0.0    0.0    0.0    0.0    0.0  \n",
              "39    0.0    0.0    0.0    0.0    0.0    0.0    0.0    0.0    0.0    0.0  \n",
              "40    0.0    0.0    0.0    0.0    0.0    0.0    0.0    0.0    0.0    0.0  \n",
              "41    0.0    0.0    0.0    0.0    0.0    0.0    0.0    0.0    0.0    0.0  \n",
              "42    0.0    0.0    0.0    0.0    0.0    0.0    0.0    0.0    0.0    0.0  \n",
              "43    0.0    0.0    0.0    0.0    0.0    0.0    0.0    0.0    0.0    0.0  \n",
              "44    0.0    0.0    0.0    0.0    0.0    0.0    0.0    0.0    0.0    0.0  \n",
              "45    0.0    0.0    0.0    0.0    0.0    0.0    0.0    0.0    0.0    0.0  \n",
              "46    0.0    0.0    0.0    0.0    0.0    0.0    0.0    0.0    0.0    0.0  \n",
              "47    0.0    0.0    0.0    0.0    0.0    0.0    0.0    0.0    0.0    0.0  \n",
              "48    0.0    0.0    0.0    0.0    0.0    0.0    0.0    0.0    0.0    0.0  \n",
              "49    0.0    0.0    0.0    0.0    0.0    0.0    0.0    0.0    0.0    0.0  \n",
              "\n",
              "[50 rows x 40000 columns]"
            ],
            "text/html": [
              "\n",
              "  <div id=\"df-bb3efe68-9c22-4c2d-8316-fd70f163576a\">\n",
              "    <div class=\"colab-df-container\">\n",
              "      <div>\n",
              "<style scoped>\n",
              "    .dataframe tbody tr th:only-of-type {\n",
              "        vertical-align: middle;\n",
              "    }\n",
              "\n",
              "    .dataframe tbody tr th {\n",
              "        vertical-align: top;\n",
              "    }\n",
              "\n",
              "    .dataframe thead th {\n",
              "        text-align: right;\n",
              "    }\n",
              "</style>\n",
              "<table border=\"1\" class=\"dataframe\">\n",
              "  <thead>\n",
              "    <tr style=\"text-align: right;\">\n",
              "      <th></th>\n",
              "      <th>0</th>\n",
              "      <th>1</th>\n",
              "      <th>2</th>\n",
              "      <th>3</th>\n",
              "      <th>4</th>\n",
              "      <th>5</th>\n",
              "      <th>6</th>\n",
              "      <th>7</th>\n",
              "      <th>8</th>\n",
              "      <th>9</th>\n",
              "      <th>...</th>\n",
              "      <th>39990</th>\n",
              "      <th>39991</th>\n",
              "      <th>39992</th>\n",
              "      <th>39993</th>\n",
              "      <th>39994</th>\n",
              "      <th>39995</th>\n",
              "      <th>39996</th>\n",
              "      <th>39997</th>\n",
              "      <th>39998</th>\n",
              "      <th>39999</th>\n",
              "    </tr>\n",
              "  </thead>\n",
              "  <tbody>\n",
              "    <tr>\n",
              "      <th>0</th>\n",
              "      <td>0.0</td>\n",
              "      <td>0.0</td>\n",
              "      <td>0.0</td>\n",
              "      <td>0.0</td>\n",
              "      <td>0.0</td>\n",
              "      <td>0.0</td>\n",
              "      <td>0.0</td>\n",
              "      <td>0.0</td>\n",
              "      <td>0.0</td>\n",
              "      <td>0.0</td>\n",
              "      <td>...</td>\n",
              "      <td>0.0</td>\n",
              "      <td>0.0</td>\n",
              "      <td>0.0</td>\n",
              "      <td>0.0</td>\n",
              "      <td>0.0</td>\n",
              "      <td>0.0</td>\n",
              "      <td>0.0</td>\n",
              "      <td>0.0</td>\n",
              "      <td>0.0</td>\n",
              "      <td>0.0</td>\n",
              "    </tr>\n",
              "    <tr>\n",
              "      <th>1</th>\n",
              "      <td>0.0</td>\n",
              "      <td>0.0</td>\n",
              "      <td>0.0</td>\n",
              "      <td>0.0</td>\n",
              "      <td>0.0</td>\n",
              "      <td>0.0</td>\n",
              "      <td>0.0</td>\n",
              "      <td>0.0</td>\n",
              "      <td>0.0</td>\n",
              "      <td>0.0</td>\n",
              "      <td>...</td>\n",
              "      <td>0.0</td>\n",
              "      <td>0.0</td>\n",
              "      <td>0.0</td>\n",
              "      <td>0.0</td>\n",
              "      <td>0.0</td>\n",
              "      <td>0.0</td>\n",
              "      <td>0.0</td>\n",
              "      <td>0.0</td>\n",
              "      <td>0.0</td>\n",
              "      <td>0.0</td>\n",
              "    </tr>\n",
              "    <tr>\n",
              "      <th>2</th>\n",
              "      <td>0.0</td>\n",
              "      <td>0.0</td>\n",
              "      <td>0.0</td>\n",
              "      <td>0.0</td>\n",
              "      <td>0.0</td>\n",
              "      <td>0.0</td>\n",
              "      <td>0.0</td>\n",
              "      <td>0.0</td>\n",
              "      <td>0.0</td>\n",
              "      <td>0.0</td>\n",
              "      <td>...</td>\n",
              "      <td>0.0</td>\n",
              "      <td>0.0</td>\n",
              "      <td>0.0</td>\n",
              "      <td>0.0</td>\n",
              "      <td>0.0</td>\n",
              "      <td>0.0</td>\n",
              "      <td>0.0</td>\n",
              "      <td>0.0</td>\n",
              "      <td>0.0</td>\n",
              "      <td>0.0</td>\n",
              "    </tr>\n",
              "    <tr>\n",
              "      <th>3</th>\n",
              "      <td>0.0</td>\n",
              "      <td>0.0</td>\n",
              "      <td>0.0</td>\n",
              "      <td>0.0</td>\n",
              "      <td>0.0</td>\n",
              "      <td>0.0</td>\n",
              "      <td>0.0</td>\n",
              "      <td>0.0</td>\n",
              "      <td>0.0</td>\n",
              "      <td>0.0</td>\n",
              "      <td>...</td>\n",
              "      <td>0.0</td>\n",
              "      <td>0.0</td>\n",
              "      <td>0.0</td>\n",
              "      <td>0.0</td>\n",
              "      <td>0.0</td>\n",
              "      <td>0.0</td>\n",
              "      <td>0.0</td>\n",
              "      <td>0.0</td>\n",
              "      <td>0.0</td>\n",
              "      <td>0.0</td>\n",
              "    </tr>\n",
              "    <tr>\n",
              "      <th>4</th>\n",
              "      <td>0.0</td>\n",
              "      <td>0.0</td>\n",
              "      <td>0.0</td>\n",
              "      <td>0.0</td>\n",
              "      <td>0.0</td>\n",
              "      <td>0.0</td>\n",
              "      <td>0.0</td>\n",
              "      <td>0.0</td>\n",
              "      <td>0.0</td>\n",
              "      <td>0.0</td>\n",
              "      <td>...</td>\n",
              "      <td>0.0</td>\n",
              "      <td>0.0</td>\n",
              "      <td>0.0</td>\n",
              "      <td>0.0</td>\n",
              "      <td>0.0</td>\n",
              "      <td>0.0</td>\n",
              "      <td>0.0</td>\n",
              "      <td>0.0</td>\n",
              "      <td>0.0</td>\n",
              "      <td>0.0</td>\n",
              "    </tr>\n",
              "    <tr>\n",
              "      <th>5</th>\n",
              "      <td>0.0</td>\n",
              "      <td>0.0</td>\n",
              "      <td>3.0</td>\n",
              "      <td>0.0</td>\n",
              "      <td>0.0</td>\n",
              "      <td>0.0</td>\n",
              "      <td>0.0</td>\n",
              "      <td>0.0</td>\n",
              "      <td>0.0</td>\n",
              "      <td>0.0</td>\n",
              "      <td>...</td>\n",
              "      <td>0.0</td>\n",
              "      <td>0.0</td>\n",
              "      <td>0.0</td>\n",
              "      <td>0.0</td>\n",
              "      <td>0.0</td>\n",
              "      <td>0.0</td>\n",
              "      <td>0.0</td>\n",
              "      <td>0.0</td>\n",
              "      <td>0.0</td>\n",
              "      <td>0.0</td>\n",
              "    </tr>\n",
              "    <tr>\n",
              "      <th>6</th>\n",
              "      <td>0.0</td>\n",
              "      <td>0.0</td>\n",
              "      <td>0.0</td>\n",
              "      <td>0.0</td>\n",
              "      <td>0.0</td>\n",
              "      <td>0.0</td>\n",
              "      <td>0.0</td>\n",
              "      <td>0.0</td>\n",
              "      <td>0.0</td>\n",
              "      <td>0.0</td>\n",
              "      <td>...</td>\n",
              "      <td>0.0</td>\n",
              "      <td>0.0</td>\n",
              "      <td>0.0</td>\n",
              "      <td>0.0</td>\n",
              "      <td>0.0</td>\n",
              "      <td>0.0</td>\n",
              "      <td>0.0</td>\n",
              "      <td>0.0</td>\n",
              "      <td>0.0</td>\n",
              "      <td>0.0</td>\n",
              "    </tr>\n",
              "    <tr>\n",
              "      <th>7</th>\n",
              "      <td>0.0</td>\n",
              "      <td>0.0</td>\n",
              "      <td>0.0</td>\n",
              "      <td>0.0</td>\n",
              "      <td>0.0</td>\n",
              "      <td>0.0</td>\n",
              "      <td>0.0</td>\n",
              "      <td>0.0</td>\n",
              "      <td>0.0</td>\n",
              "      <td>0.0</td>\n",
              "      <td>...</td>\n",
              "      <td>0.0</td>\n",
              "      <td>0.0</td>\n",
              "      <td>0.0</td>\n",
              "      <td>0.0</td>\n",
              "      <td>0.0</td>\n",
              "      <td>0.0</td>\n",
              "      <td>0.0</td>\n",
              "      <td>0.0</td>\n",
              "      <td>0.0</td>\n",
              "      <td>0.0</td>\n",
              "    </tr>\n",
              "    <tr>\n",
              "      <th>8</th>\n",
              "      <td>0.0</td>\n",
              "      <td>0.0</td>\n",
              "      <td>0.0</td>\n",
              "      <td>0.0</td>\n",
              "      <td>0.0</td>\n",
              "      <td>0.0</td>\n",
              "      <td>0.0</td>\n",
              "      <td>0.0</td>\n",
              "      <td>0.0</td>\n",
              "      <td>0.0</td>\n",
              "      <td>...</td>\n",
              "      <td>0.0</td>\n",
              "      <td>0.0</td>\n",
              "      <td>0.0</td>\n",
              "      <td>0.0</td>\n",
              "      <td>0.0</td>\n",
              "      <td>0.0</td>\n",
              "      <td>0.0</td>\n",
              "      <td>0.0</td>\n",
              "      <td>0.0</td>\n",
              "      <td>0.0</td>\n",
              "    </tr>\n",
              "    <tr>\n",
              "      <th>9</th>\n",
              "      <td>0.0</td>\n",
              "      <td>0.0</td>\n",
              "      <td>0.0</td>\n",
              "      <td>0.0</td>\n",
              "      <td>0.0</td>\n",
              "      <td>0.0</td>\n",
              "      <td>0.0</td>\n",
              "      <td>0.0</td>\n",
              "      <td>0.0</td>\n",
              "      <td>0.0</td>\n",
              "      <td>...</td>\n",
              "      <td>0.0</td>\n",
              "      <td>0.0</td>\n",
              "      <td>0.0</td>\n",
              "      <td>0.0</td>\n",
              "      <td>0.0</td>\n",
              "      <td>0.0</td>\n",
              "      <td>0.0</td>\n",
              "      <td>0.0</td>\n",
              "      <td>0.0</td>\n",
              "      <td>0.0</td>\n",
              "    </tr>\n",
              "    <tr>\n",
              "      <th>10</th>\n",
              "      <td>0.0</td>\n",
              "      <td>0.0</td>\n",
              "      <td>0.0</td>\n",
              "      <td>0.0</td>\n",
              "      <td>0.0</td>\n",
              "      <td>0.0</td>\n",
              "      <td>0.0</td>\n",
              "      <td>0.0</td>\n",
              "      <td>0.0</td>\n",
              "      <td>0.0</td>\n",
              "      <td>...</td>\n",
              "      <td>0.0</td>\n",
              "      <td>0.0</td>\n",
              "      <td>0.0</td>\n",
              "      <td>0.0</td>\n",
              "      <td>0.0</td>\n",
              "      <td>0.0</td>\n",
              "      <td>0.0</td>\n",
              "      <td>0.0</td>\n",
              "      <td>0.0</td>\n",
              "      <td>0.0</td>\n",
              "    </tr>\n",
              "    <tr>\n",
              "      <th>11</th>\n",
              "      <td>0.0</td>\n",
              "      <td>0.0</td>\n",
              "      <td>0.0</td>\n",
              "      <td>0.0</td>\n",
              "      <td>0.0</td>\n",
              "      <td>0.0</td>\n",
              "      <td>0.0</td>\n",
              "      <td>0.0</td>\n",
              "      <td>0.0</td>\n",
              "      <td>0.0</td>\n",
              "      <td>...</td>\n",
              "      <td>0.0</td>\n",
              "      <td>0.0</td>\n",
              "      <td>0.0</td>\n",
              "      <td>0.0</td>\n",
              "      <td>0.0</td>\n",
              "      <td>0.0</td>\n",
              "      <td>0.0</td>\n",
              "      <td>0.0</td>\n",
              "      <td>0.0</td>\n",
              "      <td>0.0</td>\n",
              "    </tr>\n",
              "    <tr>\n",
              "      <th>12</th>\n",
              "      <td>0.0</td>\n",
              "      <td>0.0</td>\n",
              "      <td>0.0</td>\n",
              "      <td>0.0</td>\n",
              "      <td>0.0</td>\n",
              "      <td>0.0</td>\n",
              "      <td>0.0</td>\n",
              "      <td>0.0</td>\n",
              "      <td>0.0</td>\n",
              "      <td>0.0</td>\n",
              "      <td>...</td>\n",
              "      <td>0.0</td>\n",
              "      <td>0.0</td>\n",
              "      <td>23.0</td>\n",
              "      <td>0.0</td>\n",
              "      <td>0.0</td>\n",
              "      <td>0.0</td>\n",
              "      <td>0.0</td>\n",
              "      <td>0.0</td>\n",
              "      <td>0.0</td>\n",
              "      <td>0.0</td>\n",
              "    </tr>\n",
              "    <tr>\n",
              "      <th>13</th>\n",
              "      <td>0.0</td>\n",
              "      <td>0.0</td>\n",
              "      <td>0.0</td>\n",
              "      <td>0.0</td>\n",
              "      <td>0.0</td>\n",
              "      <td>0.0</td>\n",
              "      <td>0.0</td>\n",
              "      <td>0.0</td>\n",
              "      <td>0.0</td>\n",
              "      <td>0.0</td>\n",
              "      <td>...</td>\n",
              "      <td>0.0</td>\n",
              "      <td>0.0</td>\n",
              "      <td>0.0</td>\n",
              "      <td>0.0</td>\n",
              "      <td>0.0</td>\n",
              "      <td>0.0</td>\n",
              "      <td>0.0</td>\n",
              "      <td>0.0</td>\n",
              "      <td>0.0</td>\n",
              "      <td>0.0</td>\n",
              "    </tr>\n",
              "    <tr>\n",
              "      <th>14</th>\n",
              "      <td>0.0</td>\n",
              "      <td>0.0</td>\n",
              "      <td>0.0</td>\n",
              "      <td>0.0</td>\n",
              "      <td>0.0</td>\n",
              "      <td>0.0</td>\n",
              "      <td>0.0</td>\n",
              "      <td>0.0</td>\n",
              "      <td>0.0</td>\n",
              "      <td>0.0</td>\n",
              "      <td>...</td>\n",
              "      <td>0.0</td>\n",
              "      <td>0.0</td>\n",
              "      <td>0.0</td>\n",
              "      <td>0.0</td>\n",
              "      <td>0.0</td>\n",
              "      <td>0.0</td>\n",
              "      <td>0.0</td>\n",
              "      <td>0.0</td>\n",
              "      <td>0.0</td>\n",
              "      <td>0.0</td>\n",
              "    </tr>\n",
              "    <tr>\n",
              "      <th>15</th>\n",
              "      <td>0.0</td>\n",
              "      <td>0.0</td>\n",
              "      <td>0.0</td>\n",
              "      <td>0.0</td>\n",
              "      <td>0.0</td>\n",
              "      <td>0.0</td>\n",
              "      <td>0.0</td>\n",
              "      <td>0.0</td>\n",
              "      <td>0.0</td>\n",
              "      <td>0.0</td>\n",
              "      <td>...</td>\n",
              "      <td>0.0</td>\n",
              "      <td>0.0</td>\n",
              "      <td>0.0</td>\n",
              "      <td>0.0</td>\n",
              "      <td>0.0</td>\n",
              "      <td>0.0</td>\n",
              "      <td>0.0</td>\n",
              "      <td>0.0</td>\n",
              "      <td>0.0</td>\n",
              "      <td>0.0</td>\n",
              "    </tr>\n",
              "    <tr>\n",
              "      <th>16</th>\n",
              "      <td>0.0</td>\n",
              "      <td>0.0</td>\n",
              "      <td>0.0</td>\n",
              "      <td>0.0</td>\n",
              "      <td>0.0</td>\n",
              "      <td>0.0</td>\n",
              "      <td>0.0</td>\n",
              "      <td>0.0</td>\n",
              "      <td>0.0</td>\n",
              "      <td>0.0</td>\n",
              "      <td>...</td>\n",
              "      <td>0.0</td>\n",
              "      <td>0.0</td>\n",
              "      <td>0.0</td>\n",
              "      <td>0.0</td>\n",
              "      <td>0.0</td>\n",
              "      <td>0.0</td>\n",
              "      <td>0.0</td>\n",
              "      <td>0.0</td>\n",
              "      <td>0.0</td>\n",
              "      <td>0.0</td>\n",
              "    </tr>\n",
              "    <tr>\n",
              "      <th>17</th>\n",
              "      <td>0.0</td>\n",
              "      <td>0.0</td>\n",
              "      <td>0.0</td>\n",
              "      <td>0.0</td>\n",
              "      <td>0.0</td>\n",
              "      <td>0.0</td>\n",
              "      <td>0.0</td>\n",
              "      <td>0.0</td>\n",
              "      <td>0.0</td>\n",
              "      <td>0.0</td>\n",
              "      <td>...</td>\n",
              "      <td>0.0</td>\n",
              "      <td>0.0</td>\n",
              "      <td>0.0</td>\n",
              "      <td>0.0</td>\n",
              "      <td>0.0</td>\n",
              "      <td>0.0</td>\n",
              "      <td>0.0</td>\n",
              "      <td>0.0</td>\n",
              "      <td>0.0</td>\n",
              "      <td>0.0</td>\n",
              "    </tr>\n",
              "    <tr>\n",
              "      <th>18</th>\n",
              "      <td>0.0</td>\n",
              "      <td>0.0</td>\n",
              "      <td>0.0</td>\n",
              "      <td>0.0</td>\n",
              "      <td>0.0</td>\n",
              "      <td>0.0</td>\n",
              "      <td>0.0</td>\n",
              "      <td>0.0</td>\n",
              "      <td>0.0</td>\n",
              "      <td>0.0</td>\n",
              "      <td>...</td>\n",
              "      <td>0.0</td>\n",
              "      <td>0.0</td>\n",
              "      <td>0.0</td>\n",
              "      <td>0.0</td>\n",
              "      <td>0.0</td>\n",
              "      <td>0.0</td>\n",
              "      <td>0.0</td>\n",
              "      <td>0.0</td>\n",
              "      <td>0.0</td>\n",
              "      <td>0.0</td>\n",
              "    </tr>\n",
              "    <tr>\n",
              "      <th>19</th>\n",
              "      <td>0.0</td>\n",
              "      <td>0.0</td>\n",
              "      <td>0.0</td>\n",
              "      <td>0.0</td>\n",
              "      <td>0.0</td>\n",
              "      <td>0.0</td>\n",
              "      <td>0.0</td>\n",
              "      <td>0.0</td>\n",
              "      <td>0.0</td>\n",
              "      <td>0.0</td>\n",
              "      <td>...</td>\n",
              "      <td>0.0</td>\n",
              "      <td>0.0</td>\n",
              "      <td>0.0</td>\n",
              "      <td>0.0</td>\n",
              "      <td>0.0</td>\n",
              "      <td>0.0</td>\n",
              "      <td>0.0</td>\n",
              "      <td>0.0</td>\n",
              "      <td>0.0</td>\n",
              "      <td>0.0</td>\n",
              "    </tr>\n",
              "    <tr>\n",
              "      <th>20</th>\n",
              "      <td>0.0</td>\n",
              "      <td>0.0</td>\n",
              "      <td>0.0</td>\n",
              "      <td>0.0</td>\n",
              "      <td>0.0</td>\n",
              "      <td>0.0</td>\n",
              "      <td>0.0</td>\n",
              "      <td>0.0</td>\n",
              "      <td>0.0</td>\n",
              "      <td>0.0</td>\n",
              "      <td>...</td>\n",
              "      <td>0.0</td>\n",
              "      <td>0.0</td>\n",
              "      <td>0.0</td>\n",
              "      <td>0.0</td>\n",
              "      <td>0.0</td>\n",
              "      <td>0.0</td>\n",
              "      <td>0.0</td>\n",
              "      <td>0.0</td>\n",
              "      <td>0.0</td>\n",
              "      <td>0.0</td>\n",
              "    </tr>\n",
              "    <tr>\n",
              "      <th>21</th>\n",
              "      <td>0.0</td>\n",
              "      <td>0.0</td>\n",
              "      <td>0.0</td>\n",
              "      <td>0.0</td>\n",
              "      <td>0.0</td>\n",
              "      <td>0.0</td>\n",
              "      <td>0.0</td>\n",
              "      <td>0.0</td>\n",
              "      <td>0.0</td>\n",
              "      <td>0.0</td>\n",
              "      <td>...</td>\n",
              "      <td>0.0</td>\n",
              "      <td>0.0</td>\n",
              "      <td>0.0</td>\n",
              "      <td>0.0</td>\n",
              "      <td>0.0</td>\n",
              "      <td>0.0</td>\n",
              "      <td>0.0</td>\n",
              "      <td>0.0</td>\n",
              "      <td>0.0</td>\n",
              "      <td>0.0</td>\n",
              "    </tr>\n",
              "    <tr>\n",
              "      <th>22</th>\n",
              "      <td>0.0</td>\n",
              "      <td>0.0</td>\n",
              "      <td>0.0</td>\n",
              "      <td>0.0</td>\n",
              "      <td>0.0</td>\n",
              "      <td>0.0</td>\n",
              "      <td>0.0</td>\n",
              "      <td>0.0</td>\n",
              "      <td>0.0</td>\n",
              "      <td>0.0</td>\n",
              "      <td>...</td>\n",
              "      <td>0.0</td>\n",
              "      <td>0.0</td>\n",
              "      <td>0.0</td>\n",
              "      <td>0.0</td>\n",
              "      <td>0.0</td>\n",
              "      <td>0.0</td>\n",
              "      <td>0.0</td>\n",
              "      <td>0.0</td>\n",
              "      <td>0.0</td>\n",
              "      <td>0.0</td>\n",
              "    </tr>\n",
              "    <tr>\n",
              "      <th>23</th>\n",
              "      <td>0.0</td>\n",
              "      <td>0.0</td>\n",
              "      <td>0.0</td>\n",
              "      <td>0.0</td>\n",
              "      <td>47.0</td>\n",
              "      <td>0.0</td>\n",
              "      <td>0.0</td>\n",
              "      <td>0.0</td>\n",
              "      <td>0.0</td>\n",
              "      <td>0.0</td>\n",
              "      <td>...</td>\n",
              "      <td>0.0</td>\n",
              "      <td>0.0</td>\n",
              "      <td>0.0</td>\n",
              "      <td>0.0</td>\n",
              "      <td>0.0</td>\n",
              "      <td>0.0</td>\n",
              "      <td>0.0</td>\n",
              "      <td>0.0</td>\n",
              "      <td>0.0</td>\n",
              "      <td>0.0</td>\n",
              "    </tr>\n",
              "    <tr>\n",
              "      <th>24</th>\n",
              "      <td>0.0</td>\n",
              "      <td>0.0</td>\n",
              "      <td>0.0</td>\n",
              "      <td>0.0</td>\n",
              "      <td>0.0</td>\n",
              "      <td>0.0</td>\n",
              "      <td>0.0</td>\n",
              "      <td>0.0</td>\n",
              "      <td>0.0</td>\n",
              "      <td>0.0</td>\n",
              "      <td>...</td>\n",
              "      <td>0.0</td>\n",
              "      <td>0.0</td>\n",
              "      <td>0.0</td>\n",
              "      <td>0.0</td>\n",
              "      <td>0.0</td>\n",
              "      <td>0.0</td>\n",
              "      <td>0.0</td>\n",
              "      <td>0.0</td>\n",
              "      <td>0.0</td>\n",
              "      <td>0.0</td>\n",
              "    </tr>\n",
              "    <tr>\n",
              "      <th>25</th>\n",
              "      <td>0.0</td>\n",
              "      <td>0.0</td>\n",
              "      <td>0.0</td>\n",
              "      <td>0.0</td>\n",
              "      <td>0.0</td>\n",
              "      <td>0.0</td>\n",
              "      <td>0.0</td>\n",
              "      <td>0.0</td>\n",
              "      <td>0.0</td>\n",
              "      <td>0.0</td>\n",
              "      <td>...</td>\n",
              "      <td>0.0</td>\n",
              "      <td>0.0</td>\n",
              "      <td>0.0</td>\n",
              "      <td>0.0</td>\n",
              "      <td>0.0</td>\n",
              "      <td>0.0</td>\n",
              "      <td>0.0</td>\n",
              "      <td>0.0</td>\n",
              "      <td>0.0</td>\n",
              "      <td>0.0</td>\n",
              "    </tr>\n",
              "    <tr>\n",
              "      <th>26</th>\n",
              "      <td>0.0</td>\n",
              "      <td>0.0</td>\n",
              "      <td>0.0</td>\n",
              "      <td>0.0</td>\n",
              "      <td>0.0</td>\n",
              "      <td>0.0</td>\n",
              "      <td>0.0</td>\n",
              "      <td>0.0</td>\n",
              "      <td>0.0</td>\n",
              "      <td>0.0</td>\n",
              "      <td>...</td>\n",
              "      <td>0.0</td>\n",
              "      <td>0.0</td>\n",
              "      <td>0.0</td>\n",
              "      <td>0.0</td>\n",
              "      <td>0.0</td>\n",
              "      <td>0.0</td>\n",
              "      <td>0.0</td>\n",
              "      <td>0.0</td>\n",
              "      <td>0.0</td>\n",
              "      <td>0.0</td>\n",
              "    </tr>\n",
              "    <tr>\n",
              "      <th>27</th>\n",
              "      <td>0.0</td>\n",
              "      <td>0.0</td>\n",
              "      <td>0.0</td>\n",
              "      <td>0.0</td>\n",
              "      <td>0.0</td>\n",
              "      <td>0.0</td>\n",
              "      <td>0.0</td>\n",
              "      <td>0.0</td>\n",
              "      <td>0.0</td>\n",
              "      <td>0.0</td>\n",
              "      <td>...</td>\n",
              "      <td>0.0</td>\n",
              "      <td>0.0</td>\n",
              "      <td>0.0</td>\n",
              "      <td>0.0</td>\n",
              "      <td>0.0</td>\n",
              "      <td>0.0</td>\n",
              "      <td>0.0</td>\n",
              "      <td>0.0</td>\n",
              "      <td>0.0</td>\n",
              "      <td>0.0</td>\n",
              "    </tr>\n",
              "    <tr>\n",
              "      <th>28</th>\n",
              "      <td>0.0</td>\n",
              "      <td>0.0</td>\n",
              "      <td>0.0</td>\n",
              "      <td>0.0</td>\n",
              "      <td>0.0</td>\n",
              "      <td>0.0</td>\n",
              "      <td>0.0</td>\n",
              "      <td>0.0</td>\n",
              "      <td>0.0</td>\n",
              "      <td>0.0</td>\n",
              "      <td>...</td>\n",
              "      <td>0.0</td>\n",
              "      <td>0.0</td>\n",
              "      <td>0.0</td>\n",
              "      <td>0.0</td>\n",
              "      <td>0.0</td>\n",
              "      <td>0.0</td>\n",
              "      <td>0.0</td>\n",
              "      <td>0.0</td>\n",
              "      <td>0.0</td>\n",
              "      <td>0.0</td>\n",
              "    </tr>\n",
              "    <tr>\n",
              "      <th>29</th>\n",
              "      <td>0.0</td>\n",
              "      <td>0.0</td>\n",
              "      <td>0.0</td>\n",
              "      <td>0.0</td>\n",
              "      <td>0.0</td>\n",
              "      <td>0.0</td>\n",
              "      <td>0.0</td>\n",
              "      <td>0.0</td>\n",
              "      <td>0.0</td>\n",
              "      <td>0.0</td>\n",
              "      <td>...</td>\n",
              "      <td>0.0</td>\n",
              "      <td>0.0</td>\n",
              "      <td>0.0</td>\n",
              "      <td>0.0</td>\n",
              "      <td>0.0</td>\n",
              "      <td>0.0</td>\n",
              "      <td>0.0</td>\n",
              "      <td>0.0</td>\n",
              "      <td>0.0</td>\n",
              "      <td>0.0</td>\n",
              "    </tr>\n",
              "    <tr>\n",
              "      <th>30</th>\n",
              "      <td>0.0</td>\n",
              "      <td>0.0</td>\n",
              "      <td>0.0</td>\n",
              "      <td>0.0</td>\n",
              "      <td>0.0</td>\n",
              "      <td>0.0</td>\n",
              "      <td>0.0</td>\n",
              "      <td>0.0</td>\n",
              "      <td>0.0</td>\n",
              "      <td>0.0</td>\n",
              "      <td>...</td>\n",
              "      <td>0.0</td>\n",
              "      <td>0.0</td>\n",
              "      <td>0.0</td>\n",
              "      <td>0.0</td>\n",
              "      <td>0.0</td>\n",
              "      <td>0.0</td>\n",
              "      <td>0.0</td>\n",
              "      <td>0.0</td>\n",
              "      <td>0.0</td>\n",
              "      <td>0.0</td>\n",
              "    </tr>\n",
              "    <tr>\n",
              "      <th>31</th>\n",
              "      <td>0.0</td>\n",
              "      <td>0.0</td>\n",
              "      <td>0.0</td>\n",
              "      <td>0.0</td>\n",
              "      <td>0.0</td>\n",
              "      <td>0.0</td>\n",
              "      <td>0.0</td>\n",
              "      <td>0.0</td>\n",
              "      <td>0.0</td>\n",
              "      <td>0.0</td>\n",
              "      <td>...</td>\n",
              "      <td>0.0</td>\n",
              "      <td>0.0</td>\n",
              "      <td>0.0</td>\n",
              "      <td>0.0</td>\n",
              "      <td>0.0</td>\n",
              "      <td>0.0</td>\n",
              "      <td>0.0</td>\n",
              "      <td>0.0</td>\n",
              "      <td>0.0</td>\n",
              "      <td>0.0</td>\n",
              "    </tr>\n",
              "    <tr>\n",
              "      <th>32</th>\n",
              "      <td>0.0</td>\n",
              "      <td>0.0</td>\n",
              "      <td>0.0</td>\n",
              "      <td>0.0</td>\n",
              "      <td>0.0</td>\n",
              "      <td>0.0</td>\n",
              "      <td>0.0</td>\n",
              "      <td>0.0</td>\n",
              "      <td>0.0</td>\n",
              "      <td>0.0</td>\n",
              "      <td>...</td>\n",
              "      <td>0.0</td>\n",
              "      <td>0.0</td>\n",
              "      <td>0.0</td>\n",
              "      <td>0.0</td>\n",
              "      <td>0.0</td>\n",
              "      <td>0.0</td>\n",
              "      <td>0.0</td>\n",
              "      <td>0.0</td>\n",
              "      <td>0.0</td>\n",
              "      <td>0.0</td>\n",
              "    </tr>\n",
              "    <tr>\n",
              "      <th>33</th>\n",
              "      <td>0.0</td>\n",
              "      <td>0.0</td>\n",
              "      <td>0.0</td>\n",
              "      <td>0.0</td>\n",
              "      <td>0.0</td>\n",
              "      <td>0.0</td>\n",
              "      <td>0.0</td>\n",
              "      <td>0.0</td>\n",
              "      <td>0.0</td>\n",
              "      <td>0.0</td>\n",
              "      <td>...</td>\n",
              "      <td>0.0</td>\n",
              "      <td>0.0</td>\n",
              "      <td>0.0</td>\n",
              "      <td>0.0</td>\n",
              "      <td>0.0</td>\n",
              "      <td>0.0</td>\n",
              "      <td>0.0</td>\n",
              "      <td>0.0</td>\n",
              "      <td>0.0</td>\n",
              "      <td>0.0</td>\n",
              "    </tr>\n",
              "    <tr>\n",
              "      <th>34</th>\n",
              "      <td>0.0</td>\n",
              "      <td>0.0</td>\n",
              "      <td>0.0</td>\n",
              "      <td>0.0</td>\n",
              "      <td>0.0</td>\n",
              "      <td>0.0</td>\n",
              "      <td>0.0</td>\n",
              "      <td>0.0</td>\n",
              "      <td>0.0</td>\n",
              "      <td>0.0</td>\n",
              "      <td>...</td>\n",
              "      <td>0.0</td>\n",
              "      <td>0.0</td>\n",
              "      <td>0.0</td>\n",
              "      <td>0.0</td>\n",
              "      <td>0.0</td>\n",
              "      <td>0.0</td>\n",
              "      <td>0.0</td>\n",
              "      <td>0.0</td>\n",
              "      <td>0.0</td>\n",
              "      <td>0.0</td>\n",
              "    </tr>\n",
              "    <tr>\n",
              "      <th>35</th>\n",
              "      <td>0.0</td>\n",
              "      <td>0.0</td>\n",
              "      <td>0.0</td>\n",
              "      <td>0.0</td>\n",
              "      <td>0.0</td>\n",
              "      <td>0.0</td>\n",
              "      <td>0.0</td>\n",
              "      <td>0.0</td>\n",
              "      <td>0.0</td>\n",
              "      <td>0.0</td>\n",
              "      <td>...</td>\n",
              "      <td>0.0</td>\n",
              "      <td>0.0</td>\n",
              "      <td>0.0</td>\n",
              "      <td>0.0</td>\n",
              "      <td>0.0</td>\n",
              "      <td>0.0</td>\n",
              "      <td>0.0</td>\n",
              "      <td>0.0</td>\n",
              "      <td>0.0</td>\n",
              "      <td>0.0</td>\n",
              "    </tr>\n",
              "    <tr>\n",
              "      <th>36</th>\n",
              "      <td>0.0</td>\n",
              "      <td>0.0</td>\n",
              "      <td>0.0</td>\n",
              "      <td>0.0</td>\n",
              "      <td>0.0</td>\n",
              "      <td>0.0</td>\n",
              "      <td>0.0</td>\n",
              "      <td>0.0</td>\n",
              "      <td>0.0</td>\n",
              "      <td>0.0</td>\n",
              "      <td>...</td>\n",
              "      <td>0.0</td>\n",
              "      <td>0.0</td>\n",
              "      <td>0.0</td>\n",
              "      <td>0.0</td>\n",
              "      <td>0.0</td>\n",
              "      <td>0.0</td>\n",
              "      <td>0.0</td>\n",
              "      <td>0.0</td>\n",
              "      <td>0.0</td>\n",
              "      <td>0.0</td>\n",
              "    </tr>\n",
              "    <tr>\n",
              "      <th>37</th>\n",
              "      <td>0.0</td>\n",
              "      <td>0.0</td>\n",
              "      <td>0.0</td>\n",
              "      <td>0.0</td>\n",
              "      <td>0.0</td>\n",
              "      <td>0.0</td>\n",
              "      <td>0.0</td>\n",
              "      <td>0.0</td>\n",
              "      <td>0.0</td>\n",
              "      <td>0.0</td>\n",
              "      <td>...</td>\n",
              "      <td>0.0</td>\n",
              "      <td>0.0</td>\n",
              "      <td>0.0</td>\n",
              "      <td>0.0</td>\n",
              "      <td>0.0</td>\n",
              "      <td>0.0</td>\n",
              "      <td>0.0</td>\n",
              "      <td>0.0</td>\n",
              "      <td>0.0</td>\n",
              "      <td>0.0</td>\n",
              "    </tr>\n",
              "    <tr>\n",
              "      <th>38</th>\n",
              "      <td>0.0</td>\n",
              "      <td>0.0</td>\n",
              "      <td>0.0</td>\n",
              "      <td>0.0</td>\n",
              "      <td>0.0</td>\n",
              "      <td>0.0</td>\n",
              "      <td>0.0</td>\n",
              "      <td>0.0</td>\n",
              "      <td>0.0</td>\n",
              "      <td>0.0</td>\n",
              "      <td>...</td>\n",
              "      <td>0.0</td>\n",
              "      <td>0.0</td>\n",
              "      <td>0.0</td>\n",
              "      <td>0.0</td>\n",
              "      <td>0.0</td>\n",
              "      <td>0.0</td>\n",
              "      <td>0.0</td>\n",
              "      <td>0.0</td>\n",
              "      <td>0.0</td>\n",
              "      <td>0.0</td>\n",
              "    </tr>\n",
              "    <tr>\n",
              "      <th>39</th>\n",
              "      <td>0.0</td>\n",
              "      <td>0.0</td>\n",
              "      <td>0.0</td>\n",
              "      <td>0.0</td>\n",
              "      <td>0.0</td>\n",
              "      <td>0.0</td>\n",
              "      <td>0.0</td>\n",
              "      <td>0.0</td>\n",
              "      <td>0.0</td>\n",
              "      <td>0.0</td>\n",
              "      <td>...</td>\n",
              "      <td>0.0</td>\n",
              "      <td>0.0</td>\n",
              "      <td>0.0</td>\n",
              "      <td>0.0</td>\n",
              "      <td>0.0</td>\n",
              "      <td>0.0</td>\n",
              "      <td>0.0</td>\n",
              "      <td>0.0</td>\n",
              "      <td>0.0</td>\n",
              "      <td>0.0</td>\n",
              "    </tr>\n",
              "    <tr>\n",
              "      <th>40</th>\n",
              "      <td>0.0</td>\n",
              "      <td>0.0</td>\n",
              "      <td>0.0</td>\n",
              "      <td>0.0</td>\n",
              "      <td>0.0</td>\n",
              "      <td>0.0</td>\n",
              "      <td>0.0</td>\n",
              "      <td>0.0</td>\n",
              "      <td>0.0</td>\n",
              "      <td>0.0</td>\n",
              "      <td>...</td>\n",
              "      <td>0.0</td>\n",
              "      <td>0.0</td>\n",
              "      <td>0.0</td>\n",
              "      <td>0.0</td>\n",
              "      <td>0.0</td>\n",
              "      <td>0.0</td>\n",
              "      <td>0.0</td>\n",
              "      <td>0.0</td>\n",
              "      <td>0.0</td>\n",
              "      <td>0.0</td>\n",
              "    </tr>\n",
              "    <tr>\n",
              "      <th>41</th>\n",
              "      <td>0.0</td>\n",
              "      <td>0.0</td>\n",
              "      <td>0.0</td>\n",
              "      <td>0.0</td>\n",
              "      <td>0.0</td>\n",
              "      <td>0.0</td>\n",
              "      <td>0.0</td>\n",
              "      <td>0.0</td>\n",
              "      <td>0.0</td>\n",
              "      <td>0.0</td>\n",
              "      <td>...</td>\n",
              "      <td>0.0</td>\n",
              "      <td>0.0</td>\n",
              "      <td>0.0</td>\n",
              "      <td>0.0</td>\n",
              "      <td>0.0</td>\n",
              "      <td>0.0</td>\n",
              "      <td>0.0</td>\n",
              "      <td>0.0</td>\n",
              "      <td>0.0</td>\n",
              "      <td>0.0</td>\n",
              "    </tr>\n",
              "    <tr>\n",
              "      <th>42</th>\n",
              "      <td>0.0</td>\n",
              "      <td>0.0</td>\n",
              "      <td>0.0</td>\n",
              "      <td>0.0</td>\n",
              "      <td>0.0</td>\n",
              "      <td>0.0</td>\n",
              "      <td>0.0</td>\n",
              "      <td>0.0</td>\n",
              "      <td>0.0</td>\n",
              "      <td>0.0</td>\n",
              "      <td>...</td>\n",
              "      <td>0.0</td>\n",
              "      <td>0.0</td>\n",
              "      <td>0.0</td>\n",
              "      <td>0.0</td>\n",
              "      <td>0.0</td>\n",
              "      <td>0.0</td>\n",
              "      <td>0.0</td>\n",
              "      <td>0.0</td>\n",
              "      <td>0.0</td>\n",
              "      <td>0.0</td>\n",
              "    </tr>\n",
              "    <tr>\n",
              "      <th>43</th>\n",
              "      <td>0.0</td>\n",
              "      <td>0.0</td>\n",
              "      <td>0.0</td>\n",
              "      <td>0.0</td>\n",
              "      <td>0.0</td>\n",
              "      <td>0.0</td>\n",
              "      <td>0.0</td>\n",
              "      <td>0.0</td>\n",
              "      <td>0.0</td>\n",
              "      <td>0.0</td>\n",
              "      <td>...</td>\n",
              "      <td>0.0</td>\n",
              "      <td>0.0</td>\n",
              "      <td>0.0</td>\n",
              "      <td>0.0</td>\n",
              "      <td>0.0</td>\n",
              "      <td>0.0</td>\n",
              "      <td>0.0</td>\n",
              "      <td>0.0</td>\n",
              "      <td>0.0</td>\n",
              "      <td>0.0</td>\n",
              "    </tr>\n",
              "    <tr>\n",
              "      <th>44</th>\n",
              "      <td>0.0</td>\n",
              "      <td>0.0</td>\n",
              "      <td>0.0</td>\n",
              "      <td>0.0</td>\n",
              "      <td>0.0</td>\n",
              "      <td>0.0</td>\n",
              "      <td>0.0</td>\n",
              "      <td>0.0</td>\n",
              "      <td>0.0</td>\n",
              "      <td>0.0</td>\n",
              "      <td>...</td>\n",
              "      <td>0.0</td>\n",
              "      <td>0.0</td>\n",
              "      <td>0.0</td>\n",
              "      <td>0.0</td>\n",
              "      <td>0.0</td>\n",
              "      <td>0.0</td>\n",
              "      <td>0.0</td>\n",
              "      <td>0.0</td>\n",
              "      <td>0.0</td>\n",
              "      <td>0.0</td>\n",
              "    </tr>\n",
              "    <tr>\n",
              "      <th>45</th>\n",
              "      <td>0.0</td>\n",
              "      <td>0.0</td>\n",
              "      <td>0.0</td>\n",
              "      <td>0.0</td>\n",
              "      <td>0.0</td>\n",
              "      <td>0.0</td>\n",
              "      <td>0.0</td>\n",
              "      <td>0.0</td>\n",
              "      <td>0.0</td>\n",
              "      <td>0.0</td>\n",
              "      <td>...</td>\n",
              "      <td>0.0</td>\n",
              "      <td>0.0</td>\n",
              "      <td>0.0</td>\n",
              "      <td>0.0</td>\n",
              "      <td>0.0</td>\n",
              "      <td>0.0</td>\n",
              "      <td>0.0</td>\n",
              "      <td>0.0</td>\n",
              "      <td>0.0</td>\n",
              "      <td>0.0</td>\n",
              "    </tr>\n",
              "    <tr>\n",
              "      <th>46</th>\n",
              "      <td>0.0</td>\n",
              "      <td>0.0</td>\n",
              "      <td>0.0</td>\n",
              "      <td>0.0</td>\n",
              "      <td>0.0</td>\n",
              "      <td>0.0</td>\n",
              "      <td>0.0</td>\n",
              "      <td>0.0</td>\n",
              "      <td>0.0</td>\n",
              "      <td>0.0</td>\n",
              "      <td>...</td>\n",
              "      <td>0.0</td>\n",
              "      <td>0.0</td>\n",
              "      <td>0.0</td>\n",
              "      <td>0.0</td>\n",
              "      <td>0.0</td>\n",
              "      <td>0.0</td>\n",
              "      <td>0.0</td>\n",
              "      <td>0.0</td>\n",
              "      <td>0.0</td>\n",
              "      <td>0.0</td>\n",
              "    </tr>\n",
              "    <tr>\n",
              "      <th>47</th>\n",
              "      <td>0.0</td>\n",
              "      <td>0.0</td>\n",
              "      <td>0.0</td>\n",
              "      <td>0.0</td>\n",
              "      <td>0.0</td>\n",
              "      <td>0.0</td>\n",
              "      <td>0.0</td>\n",
              "      <td>0.0</td>\n",
              "      <td>0.0</td>\n",
              "      <td>0.0</td>\n",
              "      <td>...</td>\n",
              "      <td>0.0</td>\n",
              "      <td>0.0</td>\n",
              "      <td>0.0</td>\n",
              "      <td>0.0</td>\n",
              "      <td>0.0</td>\n",
              "      <td>0.0</td>\n",
              "      <td>0.0</td>\n",
              "      <td>0.0</td>\n",
              "      <td>0.0</td>\n",
              "      <td>0.0</td>\n",
              "    </tr>\n",
              "    <tr>\n",
              "      <th>48</th>\n",
              "      <td>0.0</td>\n",
              "      <td>0.0</td>\n",
              "      <td>0.0</td>\n",
              "      <td>0.0</td>\n",
              "      <td>0.0</td>\n",
              "      <td>0.0</td>\n",
              "      <td>0.0</td>\n",
              "      <td>0.0</td>\n",
              "      <td>0.0</td>\n",
              "      <td>0.0</td>\n",
              "      <td>...</td>\n",
              "      <td>0.0</td>\n",
              "      <td>0.0</td>\n",
              "      <td>0.0</td>\n",
              "      <td>0.0</td>\n",
              "      <td>0.0</td>\n",
              "      <td>0.0</td>\n",
              "      <td>0.0</td>\n",
              "      <td>0.0</td>\n",
              "      <td>0.0</td>\n",
              "      <td>0.0</td>\n",
              "    </tr>\n",
              "    <tr>\n",
              "      <th>49</th>\n",
              "      <td>0.0</td>\n",
              "      <td>0.0</td>\n",
              "      <td>0.0</td>\n",
              "      <td>0.0</td>\n",
              "      <td>0.0</td>\n",
              "      <td>0.0</td>\n",
              "      <td>0.0</td>\n",
              "      <td>0.0</td>\n",
              "      <td>0.0</td>\n",
              "      <td>0.0</td>\n",
              "      <td>...</td>\n",
              "      <td>0.0</td>\n",
              "      <td>0.0</td>\n",
              "      <td>0.0</td>\n",
              "      <td>0.0</td>\n",
              "      <td>0.0</td>\n",
              "      <td>0.0</td>\n",
              "      <td>0.0</td>\n",
              "      <td>0.0</td>\n",
              "      <td>0.0</td>\n",
              "      <td>0.0</td>\n",
              "    </tr>\n",
              "  </tbody>\n",
              "</table>\n",
              "<p>50 rows × 40000 columns</p>\n",
              "</div>\n",
              "      <button class=\"colab-df-convert\" onclick=\"convertToInteractive('df-bb3efe68-9c22-4c2d-8316-fd70f163576a')\"\n",
              "              title=\"Convert this dataframe to an interactive table.\"\n",
              "              style=\"display:none;\">\n",
              "        \n",
              "  <svg xmlns=\"http://www.w3.org/2000/svg\" height=\"24px\"viewBox=\"0 0 24 24\"\n",
              "       width=\"24px\">\n",
              "    <path d=\"M0 0h24v24H0V0z\" fill=\"none\"/>\n",
              "    <path d=\"M18.56 5.44l.94 2.06.94-2.06 2.06-.94-2.06-.94-.94-2.06-.94 2.06-2.06.94zm-11 1L8.5 8.5l.94-2.06 2.06-.94-2.06-.94L8.5 2.5l-.94 2.06-2.06.94zm10 10l.94 2.06.94-2.06 2.06-.94-2.06-.94-.94-2.06-.94 2.06-2.06.94z\"/><path d=\"M17.41 7.96l-1.37-1.37c-.4-.4-.92-.59-1.43-.59-.52 0-1.04.2-1.43.59L10.3 9.45l-7.72 7.72c-.78.78-.78 2.05 0 2.83L4 21.41c.39.39.9.59 1.41.59.51 0 1.02-.2 1.41-.59l7.78-7.78 2.81-2.81c.8-.78.8-2.07 0-2.86zM5.41 20L4 18.59l7.72-7.72 1.47 1.35L5.41 20z\"/>\n",
              "  </svg>\n",
              "      </button>\n",
              "      \n",
              "  <style>\n",
              "    .colab-df-container {\n",
              "      display:flex;\n",
              "      flex-wrap:wrap;\n",
              "      gap: 12px;\n",
              "    }\n",
              "\n",
              "    .colab-df-convert {\n",
              "      background-color: #E8F0FE;\n",
              "      border: none;\n",
              "      border-radius: 50%;\n",
              "      cursor: pointer;\n",
              "      display: none;\n",
              "      fill: #1967D2;\n",
              "      height: 32px;\n",
              "      padding: 0 0 0 0;\n",
              "      width: 32px;\n",
              "    }\n",
              "\n",
              "    .colab-df-convert:hover {\n",
              "      background-color: #E2EBFA;\n",
              "      box-shadow: 0px 1px 2px rgba(60, 64, 67, 0.3), 0px 1px 3px 1px rgba(60, 64, 67, 0.15);\n",
              "      fill: #174EA6;\n",
              "    }\n",
              "\n",
              "    [theme=dark] .colab-df-convert {\n",
              "      background-color: #3B4455;\n",
              "      fill: #D2E3FC;\n",
              "    }\n",
              "\n",
              "    [theme=dark] .colab-df-convert:hover {\n",
              "      background-color: #434B5C;\n",
              "      box-shadow: 0px 1px 3px 1px rgba(0, 0, 0, 0.15);\n",
              "      filter: drop-shadow(0px 1px 2px rgba(0, 0, 0, 0.3));\n",
              "      fill: #FFFFFF;\n",
              "    }\n",
              "  </style>\n",
              "\n",
              "      <script>\n",
              "        const buttonEl =\n",
              "          document.querySelector('#df-bb3efe68-9c22-4c2d-8316-fd70f163576a button.colab-df-convert');\n",
              "        buttonEl.style.display =\n",
              "          google.colab.kernel.accessAllowed ? 'block' : 'none';\n",
              "\n",
              "        async function convertToInteractive(key) {\n",
              "          const element = document.querySelector('#df-bb3efe68-9c22-4c2d-8316-fd70f163576a');\n",
              "          const dataTable =\n",
              "            await google.colab.kernel.invokeFunction('convertToInteractive',\n",
              "                                                     [key], {});\n",
              "          if (!dataTable) return;\n",
              "\n",
              "          const docLinkHtml = 'Like what you see? Visit the ' +\n",
              "            '<a target=\"_blank\" href=https://colab.research.google.com/notebooks/data_table.ipynb>data table notebook</a>'\n",
              "            + ' to learn more about interactive tables.';\n",
              "          element.innerHTML = '';\n",
              "          dataTable['output_type'] = 'display_data';\n",
              "          await google.colab.output.renderOutput(dataTable, element);\n",
              "          const docLink = document.createElement('div');\n",
              "          docLink.innerHTML = docLinkHtml;\n",
              "          element.appendChild(docLink);\n",
              "        }\n",
              "      </script>\n",
              "    </div>\n",
              "  </div>\n",
              "  "
            ]
          },
          "metadata": {},
          "execution_count": 31
        }
      ]
    },
    {
      "cell_type": "code",
      "source": [
        "#binarizing matrix\n",
        "\n",
        "# guide_matrix_binary   =  (guide_matrix > 3) * 1\n",
        "#guide_matrix_binary['gRNA_group'] = gRNA_groups_table['gRNA_group'].values\n",
        "guide_matrix_binary = X_pheno.T.copy()"
      ],
      "metadata": {
        "id": "mE1DpIMFcKaY"
      },
      "execution_count": null,
      "outputs": []
    },
    {
      "cell_type": "code",
      "source": [
        "guide_matrix_binary['gRNA_group'] = guide_matrix_binary.index.values\n"
      ],
      "metadata": {
        "id": "51LWw0cKmvzL"
      },
      "execution_count": null,
      "outputs": []
    },
    {
      "cell_type": "code",
      "source": [
        ""
      ],
      "metadata": {
        "id": "jWgVjZJ_c1wK"
      },
      "execution_count": null,
      "outputs": []
    },
    {
      "cell_type": "code",
      "source": [
        "merged_guide_matrix_binary = pd.DataFrame({k:(v[v.columns[:-1]].sum() >0) * 1 for k, v in guide_matrix_binary.groupby('gRNA_group')}).T\n",
        "merged_guide_matrix_binary['filter'] = merged_guide_matrix_binary.index.values\n",
        "merged_guide_matrix_binary = merged_guide_matrix_binary[merged_guide_matrix_binary['filter'].apply(lambda x :  'chr' not in  x)]\n",
        "merged_guide_matrix_binary['to_sort'] = merged_guide_matrix_binary['filter'].apply(lambda x : x.split('_')[-1])\n",
        "merged_guide_matrix_binary = merged_guide_matrix_binary.sort_values('to_sort')\n",
        "del merged_guide_matrix_binary['filter']\n",
        "del merged_guide_matrix_binary['to_sort']"
      ],
      "metadata": {
        "id": "JdbPQZ8zc2W-"
      },
      "execution_count": null,
      "outputs": []
    },
    {
      "cell_type": "code",
      "source": [
        "Gene_matrix.columns = covariate_matrix.index.values\n",
        "merged_guide_matrix_binary.columns = covariate_matrix.index.values"
      ],
      "metadata": {
        "id": "zyiQpaK6ikj7"
      },
      "execution_count": null,
      "outputs": []
    },
    {
      "cell_type": "code",
      "source": [
        "Gene_matrix.index = row_genes['genes'].values"
      ],
      "metadata": {
        "id": "4tvd736XjSu7"
      },
      "execution_count": null,
      "outputs": []
    },
    {
      "cell_type": "code",
      "source": [
        ""
      ],
      "metadata": {
        "id": "lwVdow1Fla0O"
      },
      "execution_count": null,
      "outputs": []
    },
    {
      "cell_type": "markdown",
      "source": [
        "#Creating metadata and converting to ANNdata"
      ],
      "metadata": {
        "id": "h0xPLqLXqkBe"
      }
    },
    {
      "cell_type": "code",
      "source": [
        "expression = Gene_matrix.copy()\n",
        "guide = merged_guide_matrix_binary.copy()\n",
        "covariates = covariate_matrix.copy()"
      ],
      "metadata": {
        "id": "iNG4Yi1GiaSJ"
      },
      "execution_count": null,
      "outputs": []
    },
    {
      "cell_type": "code",
      "source": [
        "guides_metadata = pd.DataFrame(guide.index.values, columns=['ID'])\n",
        "guides_metadata['target_region'] = guides_metadata['ID'].apply(lambda x: 'POSITIVE' if 'TSS' in x else 'NEGATIVE')\n",
        "guides_metadata['expected_value'] = guides_metadata['ID'].apply(lambda x: 'downregulation' if 'TSS' in x else 'non_effect')\n",
        "dict_id_guides = {k: '|'.join(v['gRNA_id'].values.tolist()) for k,v in gRNA_groups_table.groupby('gRNA_group')}\n",
        "guides_metadata['merged_sequence'] = guides_metadata['ID'].apply(lambda x: dict_id_guides[x])\n",
        "guides_metadata.index = guides_metadata['ID'] # This is necessariy for the ANN data creation"
      ],
      "metadata": {
        "id": "wgOkuLWpmECf"
      },
      "execution_count": null,
      "outputs": []
    },
    {
      "cell_type": "code",
      "source": [
        "\n",
        "\n",
        "\n",
        " \t\t\t"
      ],
      "metadata": {
        "id": "6e9gbgQwwQ10"
      },
      "execution_count": null,
      "outputs": []
    },
    {
      "cell_type": "code",
      "source": [
        "dict_positive_controls = {v[0]:v[1] for v in gene_gRNA_groups_pairs_Matrix[gene_gRNA_groups_pairs_Matrix['pair_type'].apply(lambda x : x == 'positive_control')].values}\n",
        "dict_positive_controls"
      ],
      "metadata": {
        "colab": {
          "base_uri": "https://localhost:8080/"
        },
        "id": "EEUZClfroM1l",
        "outputId": "b3a988f1-57bd-406a-fc95-8fe53efab5ed"
      },
      "execution_count": null,
      "outputs": [
        {
          "output_type": "execute_result",
          "data": {
            "text/plain": [
              "{'ENSG00000111057': 'KRT18_TSS',\n",
              " 'ENSG00000121211': 'MND1_TSS',\n",
              " 'ENSG00000134809': 'TIMM10_TSS',\n",
              " 'ENSG00000166902': 'MRPL16_TSS',\n",
              " 'ENSG00000172809': 'RPL38_TSS'}"
            ]
          },
          "metadata": {},
          "execution_count": 44
        }
      ]
    },
    {
      "cell_type": "code",
      "source": [
        "expression_metadata = pd.DataFrame(expression.index.values, columns=['ID'])\n",
        "\n",
        "expression_metadata['guide_affecting'] = expression_metadata['ID'].apply(lambda x : dict_positive_controls[x] if x in dict_positive_controls else 'NO_GUIDE_TARGETING' )\n",
        "expression_metadata['expected_effect'] =  expression_metadata['ID'].apply(lambda x : 'DOWNREGULATION' if x in dict_positive_controls else 'NO_CHANGES' )\n",
        "expression_metadata.index = expression_metadata['ID'].values.tolist()  # This is necessariy for the ANN data creation"
      ],
      "metadata": {
        "id": "bMh0AbgRmt_P"
      },
      "execution_count": null,
      "outputs": []
    },
    {
      "cell_type": "code",
      "source": [
        ""
      ],
      "metadata": {
        "id": "-Y7r72V10dO2"
      },
      "execution_count": null,
      "outputs": []
    },
    {
      "cell_type": "code",
      "source": [
        "from anndata import AnnData, read_h5ad"
      ],
      "metadata": {
        "id": "xnsoNjoRl-QO"
      },
      "execution_count": null,
      "outputs": []
    },
    {
      "cell_type": "code",
      "source": [
        "ann_exp = AnnData(X=expression.T, obs=covariates, var=expression_metadata)"
      ],
      "metadata": {
        "colab": {
          "base_uri": "https://localhost:8080/"
        },
        "id": "fMyZi_6RmBBY",
        "outputId": "b15e5c24-dd9d-40c7-deef-707f6691508c"
      },
      "execution_count": null,
      "outputs": [
        {
          "output_type": "stream",
          "name": "stderr",
          "text": [
            "/usr/local/lib/python3.7/dist-packages/ipykernel_launcher.py:1: FutureWarning: X.dtype being converted to np.float32 from float64. In the next version of anndata (0.9) conversion will not be automatic. Pass dtype explicitly to avoid this warning. Pass `AnnData(X, dtype=X.dtype, ...)` to get the future behavour.\n",
            "  \"\"\"Entry point for launching an IPython kernel.\n"
          ]
        }
      ]
    },
    {
      "cell_type": "code",
      "source": [
        "ann_exp"
      ],
      "metadata": {
        "colab": {
          "base_uri": "https://localhost:8080/"
        },
        "id": "kla1anN9swf1",
        "outputId": "7c6522f6-59ef-4a8e-ca55-05714aa37447"
      },
      "execution_count": null,
      "outputs": [
        {
          "output_type": "execute_result",
          "data": {
            "text/plain": [
              "AnnData object with n_obs × n_vars = 40000 × 20\n",
              "    obs: 'lg_gRNA_lib_size', 'lg_gene_lib_size', 'p_mito', 'batch'\n",
              "    var: 'ID', 'guide_affecting', 'expected_effect'"
            ]
          },
          "metadata": {},
          "execution_count": 48
        }
      ]
    },
    {
      "cell_type": "code",
      "source": [
        "ann_guide = AnnData(X=guide.T, obs=covariates,  var=guides_metadata)"
      ],
      "metadata": {
        "colab": {
          "base_uri": "https://localhost:8080/"
        },
        "id": "DG3FYMaTrgSs",
        "outputId": "9a3ecd1d-ec36-438e-8a83-855cc6e2b339"
      },
      "execution_count": null,
      "outputs": [
        {
          "output_type": "stream",
          "name": "stderr",
          "text": [
            "/usr/local/lib/python3.7/dist-packages/ipykernel_launcher.py:1: FutureWarning: X.dtype being converted to np.float32 from int64. In the next version of anndata (0.9) conversion will not be automatic. Pass dtype explicitly to avoid this warning. Pass `AnnData(X, dtype=X.dtype, ...)` to get the future behavour.\n",
            "  \"\"\"Entry point for launching an IPython kernel.\n"
          ]
        }
      ]
    },
    {
      "cell_type": "code",
      "source": [
        "ann_exp"
      ],
      "metadata": {
        "colab": {
          "base_uri": "https://localhost:8080/"
        },
        "id": "qru5qtvSrkZt",
        "outputId": "d7070ca4-cc8a-4fce-f4b2-b645878be1a1"
      },
      "execution_count": null,
      "outputs": [
        {
          "output_type": "execute_result",
          "data": {
            "text/plain": [
              "AnnData object with n_obs × n_vars = 40000 × 20\n",
              "    obs: 'lg_gRNA_lib_size', 'lg_gene_lib_size', 'p_mito', 'batch'\n",
              "    var: 'ID', 'guide_affecting', 'expected_effect'"
            ]
          },
          "metadata": {},
          "execution_count": 50
        }
      ]
    },
    {
      "cell_type": "code",
      "source": [
        ""
      ],
      "metadata": {
        "id": "OtTFBMIar9ko"
      },
      "execution_count": null,
      "outputs": []
    },
    {
      "cell_type": "code",
      "source": [
        "\n",
        "# This script is used to create a figure with the AnnData object.\n",
        "# The figure is created by using the matplotlib library and the AnnData object following the AnnData documentation.\n",
        "# A description of variables should be provided in a dataframe.\n",
        "# The dataframe should have the fields 'var_category', 'var_name', 'description'\n",
        "\n",
        "import matplotlib.pyplot as plt\n",
        "import matplotlib.patches as patches\n",
        "from IPython.core.display import display, HTML\n",
        "from anndata import AnnData\n",
        "\n",
        "\n",
        "class VizAnnData():\n",
        "  '''                         \n",
        "    Class description:\n",
        "    This class is used to create a visual representation of the AnnData in the form of a figure.\n",
        "    The figure is created by using the matplotlib library and the AnnData object.\n",
        "\n",
        "\n",
        "  ''' \n",
        "  def __init__(self, ann_data, x_row_name, y_row_name, x_multi, descriptions_table=None):\n",
        "    '''\n",
        "    Initialize the class with the AnnData object and the names of the X  matrix\n",
        "     horizontal values (x_row_name) and vertival values (y_row_names) that will be used to create the figure.\n",
        "    Attributes:\n",
        "        ann_data: AnnData object\n",
        "        x_row_name: name of the horizontal values of X matrix (e.g. 'Gene')\n",
        "        y_row_name: name of the vertical values of X matrix (e.g. 'Cell')\n",
        "        x_multi: list of names of the X matrix that are stacked (e.g. ['Counts', 'Normalized Counts'])\n",
        "        descriptions_table: default None\n",
        "            table with the descriptions of the variables.\n",
        "            This dataframe shoud have the fields 'var_category', 'var_name', 'description'\n",
        "                Dataframe representation example:  \n",
        "                var_category | var_name | description\n",
        "                ----------------|----------|----------------\n",
        "                OBS            | total_number_of_guides     | Total number of guides in each cell\n",
        "                OBS            | total_number_of_exp_genes     | Total number of expressed genes in each cell\n",
        "                OBS            | percentage_mitocondrial_reads     | Percentage of mitocondrial reads in each cell\n",
        "                VAR            | guide_has_gene_target     | Does the guide have a gene target\n",
        "    \n",
        "    The figure is created by using the matplotlib library and the AnnData object following the AnnData documentation.          \n",
        "\n",
        "  \n",
        "    returns:        \n",
        "        None\n",
        "    Result:\n",
        "        A figure is created with the AnnData object.\n",
        "    ex:\n",
        "        VizAnnData(ann_data, 'Gene', 'Cell', ['Counts', 'Normalized Counts'],descriptions_table)\n",
        "    \n",
        "    \n",
        "    '''\n",
        "    self.ann_data = ann_data\n",
        "    self. x_row_name = x_row_name\n",
        "    self.y_row_name =  y_row_name\n",
        "    self.x_multi= x_multi\n",
        "    self.descriptions_table=descriptions_table\n",
        "    self.current_plot  =  self.initialize_figure()\n",
        "    self.create_block_X()\n",
        "    self.create_block_VAR()\n",
        "    self.create_block_OBS()\n",
        "    \n",
        "\n",
        "\n",
        "  def create_block_X(self):\n",
        "    '''\n",
        "    This function creates the block of the X matrix. \n",
        "    Case x_multi is empty, the block is created with a single (non-stacked) X matrix.\n",
        "    Case x_multi is not empty, the block is created with multiple (stacked) X matrices (The matrices names should be in the list x_multi).\n",
        "    Result:\n",
        "        A block is created with the X matrix.\n",
        "    '''\n",
        "    if len(self.x_multi)>1:\n",
        "      multi_status = True\n",
        "    else:\n",
        "      multi_status=False\n",
        "    self.create_ann_block('X', 25, 40, 50, 30, '#4fba6f', multi_status, self.ann_data .X.shape[0], self.ann_data .X.shape[1], multi_names=self.x_multi) \n",
        "    plt.text(-25, 55, self.x_row_name, rotation=90, va='center', fontsize=20)\n",
        "    plt.text(44, 90, self.y_row_name, va='center', fontsize=20)\n",
        "\n",
        "\n",
        "\n",
        "  def create_block_VAR(self):\n",
        "    '''\n",
        "    This function creates the block of the VAR matrix and generates the description of the variables.\n",
        "    Result:\n",
        "        A block is created with the VAR matrix.\n",
        "    '''\n",
        "    self.create_ann_block('VAR', 25, 72, 50, 15, '#2c96c0', False, self.ann_data.var.shape[1], self.ann_data .var.shape[0]) \n",
        "    self.current_plot.annotate('\\n'.join(self.ann_data .var.columns),\n",
        "      xy=(25, 85), xycoords='data',\n",
        "      xytext=(-60, 30), textcoords='offset points',\n",
        "      bbox=dict(boxstyle=\"round\", fc=\"0.8\"),\n",
        "      arrowprops=dict(arrowstyle=\"->\",\n",
        "                      connectionstyle=\"arc,angleA=-90,angleB=0,armB=0,rad=10\"))\n",
        "    \n",
        "    self.generate_description('VAR', self.ann_data.var.columns, self.descriptions_table, color='#2c96c07a')\n",
        "\n",
        "\n",
        "  def create_block_OBS(self):\n",
        "    '''\t\n",
        "    This function creates the block of the OBS matrix and generates the description of the variables.\n",
        "    Result:\n",
        "        A block is created with the OBS matrix.\n",
        "    '''\n",
        "    self.create_ann_block('OBS', 77, 40, 20, 30, '#efc41c', False, self.ann_data .obs.shape[0], self.ann_data .obs.shape[1], -3) \n",
        "    \n",
        "    self.current_plot.annotate('\\n'.join(self.ann_data .obs.columns),\n",
        "            xy=(89, 70), xycoords='data',\n",
        "            xytext=(-60, 30), textcoords='offset points',\n",
        "            bbox=dict(boxstyle=\"round\", fc=\"0.8\"),\n",
        "            arrowprops=dict(arrowstyle=\"->\",\n",
        "                            connectionstyle=\"arc,angleA=-90,angleB=0,armB=0,rad=10\"))\n",
        "\n",
        "    self.generate_description('OBS', self.ann_data.obs.columns, self.descriptions_table, color='#efc41c')\n",
        "\n",
        "\n",
        "\n",
        "\n",
        "  def add_element(self, x, y, x_extend, y_extend, color_use):\n",
        "    '''\n",
        "    This function adds a rectangle to the current figure using the parameters x, y, x_extend, y_extend and color_use.\n",
        "    attributes:\n",
        "        x: x coordinate of the rectangle\n",
        "        y: y coordinate of the rectangle\n",
        "        x_extend: x extend of the rectangle\n",
        "        y_extend: y extend of the rectangle\n",
        "        color_use: color of the rectangle   \n",
        "    '''\n",
        "    self.current_plot .add_patch(\n",
        "     patches.Rectangle(\n",
        "        (x,  y),\n",
        "        x_extend,\n",
        "        y_extend,\n",
        "        fill=True , facecolor = color_use ,lw=3, edgecolor = 'black') )\n",
        "    \n",
        "  def create_ann_block(self, name, x, y, x_extend, y_extend, color_use, multiple_layers=False, rows=None, cols=None, name_off_set=0, multi_names=False):\n",
        "    '''\n",
        "    This function creates the block of the AnnData object\n",
        "    attributes:\n",
        "        name: name of the block (e.g. 'X')\n",
        "        x: type int\n",
        "             x coordinate of the block\n",
        "        y: type int\n",
        "            y coordinate of the block\n",
        "        x_extend: type int\n",
        "            x extend of the block\n",
        "        y_extend: type int\n",
        "            y extend of the block\n",
        "        color_use: type string\n",
        "            color of the block\n",
        "        multiple_layers: type boolean\n",
        "            if True, the block is created with multiple layers representation\n",
        "        rows: type int or None  (default None)\n",
        "            number of rows of the block\n",
        "        cols: type int or None  (default None)\n",
        "            number of columns of the block\n",
        "        name_off_set: type int (default 0)\n",
        "            offset of the name of the block\n",
        "        multi_names:\n",
        "            if True, the block is created refering to multiple layers names provided in the list multi_names\n",
        "        \n",
        "                    \n",
        "\n",
        "\n",
        "    '''\n",
        "    \n",
        "    self.add_element(x, y, x_extend, y_extend, color_use)\n",
        "    if multiple_layers:\n",
        "      self.add_element(x+1, y+1, x_extend, y_extend, color_use)\n",
        "    plt.text(x + (x_extend/2) + name_off_set , y + (y_extend/2), name , va='center', fontsize=30)\n",
        "\n",
        "    if multi_names:\n",
        "      plt.text(x + ((x_extend/2)*0.6) + name_off_set , y + ((y_extend/2)* 0.7) , f\"({'  ,  '.join(multi_names)})\"  , va='center', fontsize=10)\n",
        "\n",
        "    if rows and cols:\n",
        "        plt.text(x +2 , y + (y_extend/2), rows , rotation=90, va='center', fontsize=15)\n",
        "        plt.text(x + (x_extend/2) , y + (y_extend*0.9), cols , va='center', fontsize=15)\n",
        "\n",
        "\n",
        "    \n",
        "  def generate_description( self, table_name,var_names, var_descriptions, color='#2c96c07a'):\n",
        "    ''' Generates a colorfull HTML table for each corresponding to the Ann data and the descriptions of the variables.\n",
        "        Attributes:\n",
        "            table_name: str\n",
        "                name of the table\n",
        "          var_names: list[str]\n",
        "                list of the names of the variables         \n",
        "          var_descriptions: list[str]\n",
        "            A list contaning the description for each var\n",
        "          color : str\n",
        "            hex or color name (default '#2c96c07a')\n",
        "    '''\n",
        "    \n",
        "    header_tr = f'''\n",
        "\n",
        "      <style>\n",
        "        table, th, td {{\n",
        "        border: 1px solid white;\n",
        "        border-collapse: collapse;\n",
        "      }}\n",
        "      </style>\n",
        "      <table style=\"background-color:{color};  border: 3px solid white; \">\n",
        "        <tr>\n",
        "          <th>{table_name}</th>\n",
        "          <th>description</th>\n",
        "        </tr>'''\n",
        "\n",
        "\n",
        "    df_des_category = var_descriptions.query(f'var_category == \"{table_name}\"')\n",
        "\n",
        "    var_descriptions_final = []\n",
        "    for v_name in var_names:\n",
        "      \n",
        "      var_descriptions_final.append(df_des_category.query(f\"var_name == '{v_name}' \").iloc[0]['description'])\n",
        "\n",
        "    table_elements = ''.join([  f'<tr><td>{v_name}</td><td>{d_text}</td></tr>' for v_name, d_text in zip(var_names, var_descriptions_final)]) + '</table>'\n",
        "    display(HTML(header_tr + table_elements))\n",
        "\n",
        "\n",
        "\n",
        "\n",
        "\n",
        "\n",
        "  def initialize_figure(self):\n",
        "    '''\n",
        "    This function initializes the figure and the current plot.\n",
        "    returns:\n",
        "        self.current_plot: type matplotlib.pyplot.figure\n",
        " \n",
        "\n",
        "    '''\n",
        "    plt.rcParams[\"figure.figsize\"] = (20,15)\n",
        "    fig2 = plt.figure()\n",
        "    ax2 = fig2.add_subplot(111, aspect='equal')\n",
        "    plt.xlim(-30,110)\n",
        "    plt.ylim(-20,110)\n",
        "    return ax2\n",
        "  def show_figure(self):\n",
        "    '''\n",
        "    This function shows the figure \n",
        "    result:\n",
        "        the figure is shown \n",
        "    '''\n",
        "    plt.tick_params(axis='x', which='both', bottom=False, top=False, labelbottom=False)\n",
        "    plt.tick_params(axis='y', which='both', right=False, left=False, labelleft=False)\n",
        "    for pos in ['right','top','bottom','left']:\n",
        "        plt.gca().spines[pos].set_visible(False)\n",
        "    plt.show()\n",
        "\n",
        "\n",
        "#VizAnnData(ann_guide, 'Cells', 'Genes' , x_multi=['Count']).show_figure()\n",
        "#Examples of dataframe used to descrive the variables inside the AnnData object\n",
        "description_guide_table = pd.DataFrame([['VAR', 'ID', 'Guide ID'],\n",
        " ['VAR','target_region','Target region classification: Positive is expect to have a expression change case targeted'],\n",
        " ['VAR','expected_value','This is the direction the effect generated in the gene targetd by this guide presence '],\n",
        " ['VAR','merged_sequence','Sequence of all guides targeting this region'],\n",
        " ['OBS','lg_gRNA_lib_size','log normalized total  UMI for all guides'],\n",
        " ['OBS','lg_gene_lib_size','log normalized total  UMI for all transcripts'],\n",
        " ['OBS','p_mito','Percentage of mitocondrial reads in this cell'],\n",
        " ['OBS','batch','Number of the batch used to generate this cell']\n",
        " ], columns=['var_category', 'var_name', 'description'])\n",
        "\n",
        "VizAnnData(ann_guide, 'Cells', 'Guides' , x_multi=['Binary_Count'], descriptions_table=description_guide_table).show_figure()\n",
        "\n",
        "#Examples of dataframe used to descrive the variables inside the AnnData object\n",
        "\n",
        "description_genes_table = pd.DataFrame([['VAR', 'ID', 'Gene ID'],\n",
        " ['VAR','guide_affecting','If some guide was designed to affect this gene in this assay'],\n",
        " ['VAR','expected_effect','The expected expression change direction case a guide is affecting this gene: ex: Downregulation , Upregulation or No_change'],\n",
        " ['OBS','lg_gRNA_lib_size','log normalized total  UMI for all guides'],\n",
        " ['OBS','lg_gene_lib_size','log normalized total  UMI for all transcripts'],\n",
        " ['OBS','p_mito','Percentage of mitocondrial reads in this cell'],\n",
        " ['OBS','batch','Number of the batch used to generate this cell']\n",
        " ], columns=['var_category', 'var_name', 'description'])\n",
        "\n",
        "\n",
        "\n",
        "VizAnnData(ann_exp, 'Cells', 'Genes' , x_multi=['Count'], descriptions_table=description_genes_table).show_figure()\n"
      ],
      "metadata": {
        "colab": {
          "base_uri": "https://localhost:8080/",
          "height": 1000
        },
        "id": "Qm7CA18FsBKY",
        "outputId": "8f8d764b-d053-4215-cf38-94f9d9279ec5"
      },
      "execution_count": null,
      "outputs": [
        {
          "output_type": "display_data",
          "data": {
            "text/plain": [
              "<IPython.core.display.HTML object>"
            ],
            "text/html": [
              "\n",
              "\n",
              "      <style>\n",
              "        table, th, td {\n",
              "        border: 1px solid white;\n",
              "        border-collapse: collapse;\n",
              "      }\n",
              "      </style>\n",
              "      <table style=\"background-color:#2c96c07a;  border: 3px solid white; \">\n",
              "        <tr>\n",
              "          <th>VAR</th>\n",
              "          <th>description</th>\n",
              "        </tr><tr><td>ID</td><td>Guide ID</td></tr><tr><td>target_region</td><td>Target region classification: Positive is expect to have a expression change case targeted</td></tr><tr><td>expected_value</td><td>This is the direction the effect generated in the gene targetd by this guide presence </td></tr><tr><td>merged_sequence</td><td>Sequence of all guides targeting this region</td></tr></table>"
            ]
          },
          "metadata": {}
        },
        {
          "output_type": "display_data",
          "data": {
            "text/plain": [
              "<IPython.core.display.HTML object>"
            ],
            "text/html": [
              "\n",
              "\n",
              "      <style>\n",
              "        table, th, td {\n",
              "        border: 1px solid white;\n",
              "        border-collapse: collapse;\n",
              "      }\n",
              "      </style>\n",
              "      <table style=\"background-color:#efc41c;  border: 3px solid white; \">\n",
              "        <tr>\n",
              "          <th>OBS</th>\n",
              "          <th>description</th>\n",
              "        </tr><tr><td>lg_gRNA_lib_size</td><td>log normalized total  UMI for all guides</td></tr><tr><td>lg_gene_lib_size</td><td>log normalized total  UMI for all transcripts</td></tr><tr><td>p_mito</td><td>Percentage of mitocondrial reads in this cell</td></tr><tr><td>batch</td><td>Number of the batch used to generate this cell</td></tr></table>"
            ]
          },
          "metadata": {}
        },
        {
          "output_type": "display_data",
          "data": {
            "text/plain": [
              "<Figure size 1440x1080 with 1 Axes>"
            ],
            "image/png": "[encoded data removed]"
          },
          "metadata": {}
        },
        {
          "output_type": "display_data",
          "data": {
            "text/plain": [
              "<IPython.core.display.HTML object>"
            ],
            "text/html": [
              "\n",
              "\n",
              "      <style>\n",
              "        table, th, td {\n",
              "        border: 1px solid white;\n",
              "        border-collapse: collapse;\n",
              "      }\n",
              "      </style>\n",
              "      <table style=\"background-color:#2c96c07a;  border: 3px solid white; \">\n",
              "        <tr>\n",
              "          <th>VAR</th>\n",
              "          <th>description</th>\n",
              "        </tr><tr><td>ID</td><td>Gene ID</td></tr><tr><td>guide_affecting</td><td>If some guide was designed to affect this gene in this assay</td></tr><tr><td>expected_effect</td><td>The expected expression change direction case a guide is affecting this gene: ex: Downregulation , Upregulation or No_change</td></tr></table>"
            ]
          },
          "metadata": {}
        },
        {
          "output_type": "display_data",
          "data": {
            "text/plain": [
              "<IPython.core.display.HTML object>"
            ],
            "text/html": [
              "\n",
              "\n",
              "      <style>\n",
              "        table, th, td {\n",
              "        border: 1px solid white;\n",
              "        border-collapse: collapse;\n",
              "      }\n",
              "      </style>\n",
              "      <table style=\"background-color:#efc41c;  border: 3px solid white; \">\n",
              "        <tr>\n",
              "          <th>OBS</th>\n",
              "          <th>description</th>\n",
              "        </tr><tr><td>lg_gRNA_lib_size</td><td>log normalized total  UMI for all guides</td></tr><tr><td>lg_gene_lib_size</td><td>log normalized total  UMI for all transcripts</td></tr><tr><td>p_mito</td><td>Percentage of mitocondrial reads in this cell</td></tr><tr><td>batch</td><td>Number of the batch used to generate this cell</td></tr></table>"
            ]
          },
          "metadata": {}
        },
        {
          "output_type": "display_data",
          "data": {
            "text/plain": [
              "<Figure size 1440x1080 with 1 Axes>"
            ],
            "image/png": "[encoded data removed]"
          },
          "metadata": {}
        }
      ]
    },
    {
      "cell_type": "code",
      "source": [
        ""
      ],
      "metadata": {
        "id": "xeGIEUbd0B_C"
      },
      "execution_count": null,
      "outputs": []
    },
    {
      "cell_type": "code",
      "source": [
        "\n",
        "ann_guide.write('/content/drive/MyDrive/simulation_perturb_tables/anndata_shendure_guides.h5ad')\n",
        "ann_exp.write('/content/drive/MyDrive/simulation_perturb_tables/anndata_shendure_genes.h5ad')"
      ],
      "metadata": {
        "colab": {
          "base_uri": "https://localhost:8080/",
          "height": 200
        },
        "id": "2DxrpAUFvOaG",
        "outputId": "a49ce295-cdef-43b0-e819-448660cc4cca"
      },
      "execution_count": null,
      "outputs": [
        {
          "output_type": "error",
          "ename": "NameError",
          "evalue": "ignored",
          "traceback": [
            "\u001b[0;31m---------------------------------------------------------------------------\u001b[0m",
            "\u001b[0;31mNameError\u001b[0m                                 Traceback (most recent call last)",
            "\u001b[0;32m<ipython-input-4-3c6e9d8bd294>\u001b[0m in \u001b[0;36m<module>\u001b[0;34m()\u001b[0m\n\u001b[1;32m      1\u001b[0m \u001b[0;32mfrom\u001b[0m \u001b[0manndata\u001b[0m \u001b[0;32mimport\u001b[0m \u001b[0mAnnData\u001b[0m\u001b[0;34m,\u001b[0m \u001b[0mread_h5ad\u001b[0m\u001b[0;34m\u001b[0m\u001b[0;34m\u001b[0m\u001b[0m\n\u001b[0;32m----> 2\u001b[0;31m \u001b[0mann_guide\u001b[0m\u001b[0;34m.\u001b[0m\u001b[0mwrite\u001b[0m\u001b[0;34m(\u001b[0m\u001b[0;34m'/content/drive/MyDrive/simulation_perturb_tables/anndata_shendure_guides.h5ad'\u001b[0m\u001b[0;34m)\u001b[0m\u001b[0;34m\u001b[0m\u001b[0;34m\u001b[0m\u001b[0m\n\u001b[0m\u001b[1;32m      3\u001b[0m \u001b[0mann_exp\u001b[0m\u001b[0;34m.\u001b[0m\u001b[0mwrite\u001b[0m\u001b[0;34m(\u001b[0m\u001b[0;34m'/content/drive/MyDrive/simulation_perturb_tables/anndata_shendure_genes.h5ad'\u001b[0m\u001b[0;34m)\u001b[0m\u001b[0;34m\u001b[0m\u001b[0;34m\u001b[0m\u001b[0m\n",
            "\u001b[0;31mNameError\u001b[0m: name 'ann_guide' is not defined"
          ]
        }
      ]
    },
    {
      "cell_type": "markdown",
      "source": [
        "#Loading Ann Data (restart point case simulation)"
      ],
      "metadata": {
        "id": "Gr73-dURxhrK"
      }
    },
    {
      "cell_type": "code",
      "source": [
        "#there is a conflict between r2py and sceptre installation. Restart the kernel\n",
        "#to the original configurations before proceed\n",
        "!pip install -q condacolab\n",
        "import condacolab\n",
        "condacolab.install()"
      ],
      "metadata": {
        "colab": {
          "base_uri": "https://localhost:8080/"
        },
        "id": "aB6_76pn0i-v",
        "outputId": "510f8608-9bf9-4ecb-ff95-47a9c9c1d662"
      },
      "execution_count": null,
      "outputs": [
        {
          "output_type": "stream",
          "name": "stdout",
          "text": [
            "⏬ Downloading https://github.com/jaimergp/miniforge/releases/latest/download/Mambaforge-colab-Linux-x86_64.sh...\n",
            "📦 Installing...\n",
            "📌 Adjusting configuration...\n",
            "🩹 Patching environment...\n",
            "⏲ Done in 0:00:33\n",
            "🔁 Restarting kernel...\n"
          ]
        }
      ]
    },
    {
      "cell_type": "code",
      "source": [
        "!pip  install anndata"
      ],
      "metadata": {
        "colab": {
          "base_uri": "https://localhost:8080/",
          "height": 800
        },
        "id": "V1fG4cki0KA9",
        "outputId": "14a792db-dbc9-49df-c716-59e0c1645d49"
      },
      "execution_count": null,
      "outputs": [
        {
          "output_type": "stream",
          "name": "stdout",
          "text": [
            "Collecting anndata\n",
            "  Using cached anndata-0.8.0-py3-none-any.whl (96 kB)\n",
            "Collecting h5py>=3\n",
            "  Downloading h5py-3.6.0-cp37-cp37m-manylinux_2_12_x86_64.manylinux2010_x86_64.whl (4.1 MB)\n",
            "\u001b[K     |████████████████████████████████| 4.1 MB 3.4 MB/s \n",
            "\u001b[?25hCollecting numpy>=1.16.5\n",
            "  Downloading numpy-1.21.5-cp37-cp37m-manylinux_2_12_x86_64.manylinux2010_x86_64.whl (15.7 MB)\n",
            "\u001b[K     |████████████████████████████████| 15.7 MB 33.6 MB/s \n",
            "\u001b[?25hCollecting natsort\n",
            "  Downloading natsort-8.1.0-py3-none-any.whl (37 kB)\n",
            "Collecting scipy>1.4\n",
            "  Downloading scipy-1.7.3-cp37-cp37m-manylinux_2_12_x86_64.manylinux2010_x86_64.whl (38.1 MB)\n",
            "\u001b[K     |████████████████████████████████| 38.1 MB 1.2 MB/s \n",
            "\u001b[?25hCollecting packaging>=20\n",
            "  Downloading packaging-21.3-py3-none-any.whl (40 kB)\n",
            "\u001b[K     |████████████████████████████████| 40 kB 6.9 MB/s \n",
            "\u001b[?25hCollecting typing_extensions\n",
            "  Downloading typing_extensions-4.1.1-py3-none-any.whl (26 kB)\n",
            "Collecting importlib_metadata>=0.7\n",
            "  Downloading importlib_metadata-4.11.3-py3-none-any.whl (18 kB)\n",
            "Collecting pandas>=1.1.1\n",
            "  Downloading pandas-1.3.5-cp37-cp37m-manylinux_2_17_x86_64.manylinux2014_x86_64.whl (11.3 MB)\n",
            "\u001b[K     |████████████████████████████████| 11.3 MB 50.0 MB/s \n",
            "\u001b[?25hCollecting cached-property\n",
            "  Downloading cached_property-1.5.2-py2.py3-none-any.whl (7.6 kB)\n",
            "Collecting zipp>=0.5\n",
            "  Downloading zipp-3.7.0-py3-none-any.whl (5.3 kB)\n",
            "Collecting pyparsing!=3.0.5,>=2.0.2\n",
            "  Downloading pyparsing-3.0.7-py3-none-any.whl (98 kB)\n",
            "\u001b[K     |████████████████████████████████| 98 kB 8.2 MB/s \n",
            "\u001b[?25hCollecting pytz>=2017.3\n",
            "  Downloading pytz-2022.1-py2.py3-none-any.whl (503 kB)\n",
            "\u001b[K     |████████████████████████████████| 503 kB 63.6 MB/s \n",
            "\u001b[?25hCollecting python-dateutil>=2.7.3\n",
            "  Downloading python_dateutil-2.8.2-py2.py3-none-any.whl (247 kB)\n",
            "\u001b[K     |████████████████████████████████| 247 kB 73.7 MB/s \n",
            "\u001b[?25hRequirement already satisfied: six>=1.5 in /usr/local/lib/python3.7/site-packages (from python-dateutil>=2.7.3->pandas>=1.1.1->anndata) (1.15.0)\n",
            "Installing collected packages: zipp, typing-extensions, pytz, python-dateutil, pyparsing, numpy, cached-property, scipy, pandas, packaging, natsort, importlib-metadata, h5py, anndata\n",
            "Successfully installed anndata-0.8.0 cached-property-1.5.2 h5py-3.6.0 importlib-metadata-4.11.3 natsort-8.1.0 numpy-1.21.5 packaging-21.3 pandas-1.3.5 pyparsing-3.0.7 python-dateutil-2.8.2 pytz-2022.1 scipy-1.7.3 typing-extensions-4.1.1 zipp-3.7.0\n"
          ]
        },
        {
          "output_type": "display_data",
          "data": {
            "application/vnd.colab-display-data+json": {
              "pip_warning": {
                "packages": [
                  "dateutil",
                  "numpy",
                  "pyparsing"
                ]
              }
            }
          },
          "metadata": {}
        }
      ]
    },
    {
      "cell_type": "code",
      "source": [
        "from anndata import AnnData, read_h5ad\n"
      ],
      "metadata": {
        "id": "1B_oxmLqxO5T"
      },
      "execution_count": null,
      "outputs": []
    },
    {
      "cell_type": "code",
      "source": [
        "ann_guide = read_h5ad('/content/drive/MyDrive/simulation_perturb_tables/anndata_shendure_guides.h5ad')\n",
        "ann_exp = read_h5ad('/content/drive/MyDrive/simulation_perturb_tables/anndata_shendure_genes.h5ad')"
      ],
      "metadata": {
        "id": "QZVMWKfkwVT0"
      },
      "execution_count": null,
      "outputs": []
    },
    {
      "cell_type": "code",
      "source": [
        "!conda install -c conda-forge/label/cf202003 r -y\n",
        "!Rscript -e 'install.packages(\"devtools\", repos = \"http://cran.us.r-project.org\")'\n",
        "!ln /bin/gzip /usr/bin/gzip\n",
        "!apt install tar\n",
        "!ln /bin/gzip /usr/bin/gzip   \n",
        "!ln -s tar /bin/gtar\n",
        "!Rscript -e 'install.packages(\"BiocManager\", repos = \"http://cran.us.r-project.org\")'\n",
        "!Rscript -e 'BiocManager::install(\"Rhdf5lib\")'\n",
        "!Rscript -e 'BiocManager::install(\"rhdf5\")'\n",
        "!Rscript -e 'devtools::install_github(\"katsevich-lab/sceptre\")'"
      ],
      "metadata": {
        "id": "2NlQj0sk5pfG"
      },
      "execution_count": null,
      "outputs": []
    },
    {
      "cell_type": "code",
      "source": [
        "!Rscript -e 'install.packages(\"doParallel\", repos = \"http://cran.us.r-project.org\")'\n"
      ],
      "metadata": {
        "colab": {
          "base_uri": "https://localhost:8080/"
        },
        "id": "CwSLzlIDB5rD",
        "outputId": "8ea42430-66b7-4754-8513-7a5cbf2f9cfd"
      },
      "execution_count": null,
      "outputs": [
        {
          "output_type": "stream",
          "name": "stdout",
          "text": [
            "Installing package into ‘/usr/local/lib/R/site-library’\n",
            "(as ‘lib’ is unspecified)\n",
            "also installing the dependencies ‘foreach’, ‘iterators’\n",
            "\n",
            "trying URL 'http://cran.us.r-project.org/src/contrib/foreach_1.5.2.tar.gz'\n",
            "Content type 'application/x-gzip' length 89758 bytes (87 KB)\n",
            "==================================================\n",
            "downloaded 87 KB\n",
            "\n",
            "trying URL 'http://cran.us.r-project.org/src/contrib/iterators_1.0.14.tar.gz'\n",
            "Content type 'application/x-gzip' length 300266 bytes (293 KB)\n",
            "==================================================\n",
            "downloaded 293 KB\n",
            "\n",
            "trying URL 'http://cran.us.r-project.org/src/contrib/doParallel_1.0.17.tar.gz'\n",
            "Content type 'application/x-gzip' length 164254 bytes (160 KB)\n",
            "==================================================\n",
            "downloaded 160 KB\n",
            "\n",
            "* installing *source* package ‘iterators’ ...\n",
            "** package ‘iterators’ successfully unpacked and MD5 sums checked\n",
            "** R\n",
            "** inst\n",
            "** byte-compile and prepare package for lazy loading\n",
            "** help\n",
            "*** installing help indices\n",
            "** building package indices\n",
            "** installing vignettes\n",
            "** testing if installed package can be loaded\n",
            "* DONE (iterators)\n",
            "* installing *source* package ‘foreach’ ...\n",
            "** package ‘foreach’ successfully unpacked and MD5 sums checked\n",
            "** R\n",
            "** demo\n",
            "** inst\n",
            "** byte-compile and prepare package for lazy loading\n",
            "** help\n",
            "*** installing help indices\n",
            "** building package indices\n",
            "** installing vignettes\n",
            "** testing if installed package can be loaded\n",
            "* DONE (foreach)\n",
            "* installing *source* package ‘doParallel’ ...\n",
            "** package ‘doParallel’ successfully unpacked and MD5 sums checked\n",
            "** R\n",
            "** demo\n",
            "** inst\n",
            "** byte-compile and prepare package for lazy loading\n",
            "** help\n",
            "*** installing help indices\n",
            "** building package indices\n",
            "** installing vignettes\n",
            "** testing if installed package can be loaded\n",
            "* DONE (doParallel)\n",
            "\n",
            "The downloaded source packages are in\n",
            "\t‘/tmp/RtmpjrH0QS/downloaded_packages’\n"
          ]
        }
      ]
    },
    {
      "cell_type": "code",
      "source": [
        "!Rscript -e 'library(sceptre)'"
      ],
      "metadata": {
        "id": "7HCg3Y9Pzk0t"
      },
      "execution_count": null,
      "outputs": []
    },
    {
      "cell_type": "markdown",
      "source": [
        "#Simulation"
      ],
      "metadata": {
        "id": "ovjw6FTXqqrr"
      }
    },
    {
      "cell_type": "code",
      "source": [
        "#selecting cells with the interest guide \n",
        "interest_guide = 'KRT18_TSS'\n",
        "GENE = 'ENSG00000111057'"
      ],
      "metadata": {
        "id": "GgEvOg71rz_X"
      },
      "execution_count": null,
      "outputs": []
    },
    {
      "cell_type": "code",
      "source": [
        "import pandas as pd\n",
        "import numpy as np\n",
        "import matplotlib.pyplot as plt\n"
      ],
      "metadata": {
        "id": "1QowhKzI5EZA"
      },
      "execution_count": null,
      "outputs": []
    },
    {
      "cell_type": "code",
      "source": [
        ""
      ],
      "metadata": {
        "id": "--yyLav95PEi"
      },
      "execution_count": null,
      "outputs": []
    },
    {
      "cell_type": "code",
      "source": [
        "guide = pd.DataFrame(ann_guide.X, columns=ann_guide.var.index.tolist(), index=ann_guide.obs.index.values)\n",
        "expression = pd.DataFrame(ann_exp.X, columns=ann_exp.var.index.tolist(), index=ann_exp.obs.index.values)\n",
        "covariates = ann_guide.obs\n",
        "covariates.to_csv('covariates.txt', sep='\\t')"
      ],
      "metadata": {
        "id": "3toAUmRQ4m7Z"
      },
      "execution_count": null,
      "outputs": []
    },
    {
      "cell_type": "code",
      "source": [
        "ann_exp.var"
      ],
      "metadata": {
        "colab": {
          "base_uri": "https://localhost:8080/",
          "height": 677
        },
        "id": "wIz39WBG55z5",
        "outputId": "90617d3e-845e-44fa-9116-4680d4168bb8"
      },
      "execution_count": null,
      "outputs": [
        {
          "output_type": "execute_result",
          "data": {
            "text/plain": [
              "                              ID     guide_affecting expected_effect\n",
              "ENSG00000111057  ENSG00000111057           KRT18_TSS  DOWNREGULATION\n",
              "ENSG00000121211  ENSG00000121211            MND1_TSS  DOWNREGULATION\n",
              "ENSG00000134809  ENSG00000134809          TIMM10_TSS  DOWNREGULATION\n",
              "ENSG00000166902  ENSG00000166902          MRPL16_TSS  DOWNREGULATION\n",
              "ENSG00000172809  ENSG00000172809           RPL38_TSS  DOWNREGULATION\n",
              "ENSG00000105298  ENSG00000105298  NO_GUIDE_TARGETING      NO_CHANGES\n",
              "ENSG00000108389  ENSG00000108389  NO_GUIDE_TARGETING      NO_CHANGES\n",
              "ENSG00000157985  ENSG00000157985  NO_GUIDE_TARGETING      NO_CHANGES\n",
              "ENSG00000107731  ENSG00000107731  NO_GUIDE_TARGETING      NO_CHANGES\n",
              "ENSG00000184357  ENSG00000184357  NO_GUIDE_TARGETING      NO_CHANGES\n",
              "ENSG00000090060  ENSG00000090060  NO_GUIDE_TARGETING      NO_CHANGES\n",
              "ENSG00000178988  ENSG00000178988  NO_GUIDE_TARGETING      NO_CHANGES\n",
              "ENSG00000101745  ENSG00000101745  NO_GUIDE_TARGETING      NO_CHANGES\n",
              "ENSG00000099330  ENSG00000099330  NO_GUIDE_TARGETING      NO_CHANGES\n",
              "ENSG00000167895  ENSG00000167895  NO_GUIDE_TARGETING      NO_CHANGES\n",
              "ENSG00000176658  ENSG00000176658  NO_GUIDE_TARGETING      NO_CHANGES\n",
              "ENSG00000162384  ENSG00000162384  NO_GUIDE_TARGETING      NO_CHANGES\n",
              "ENSG00000137463  ENSG00000137463  NO_GUIDE_TARGETING      NO_CHANGES\n",
              "ENSG00000179598  ENSG00000179598  NO_GUIDE_TARGETING      NO_CHANGES\n",
              "ENSG00000102119  ENSG00000102119  NO_GUIDE_TARGETING      NO_CHANGES"
            ],
            "text/html": [
              "\n",
              "  <div id=\"df-9d45ed9d-c506-4493-bf25-92b75cff60b8\">\n",
              "    <div class=\"colab-df-container\">\n",
              "      <div>\n",
              "<style scoped>\n",
              "    .dataframe tbody tr th:only-of-type {\n",
              "        vertical-align: middle;\n",
              "    }\n",
              "\n",
              "    .dataframe tbody tr th {\n",
              "        vertical-align: top;\n",
              "    }\n",
              "\n",
              "    .dataframe thead th {\n",
              "        text-align: right;\n",
              "    }\n",
              "</style>\n",
              "<table border=\"1\" class=\"dataframe\">\n",
              "  <thead>\n",
              "    <tr style=\"text-align: right;\">\n",
              "      <th></th>\n",
              "      <th>ID</th>\n",
              "      <th>guide_affecting</th>\n",
              "      <th>expected_effect</th>\n",
              "    </tr>\n",
              "  </thead>\n",
              "  <tbody>\n",
              "    <tr>\n",
              "      <th>ENSG00000111057</th>\n",
              "      <td>ENSG00000111057</td>\n",
              "      <td>KRT18_TSS</td>\n",
              "      <td>DOWNREGULATION</td>\n",
              "    </tr>\n",
              "    <tr>\n",
              "      <th>ENSG00000121211</th>\n",
              "      <td>ENSG00000121211</td>\n",
              "      <td>MND1_TSS</td>\n",
              "      <td>DOWNREGULATION</td>\n",
              "    </tr>\n",
              "    <tr>\n",
              "      <th>ENSG00000134809</th>\n",
              "      <td>ENSG00000134809</td>\n",
              "      <td>TIMM10_TSS</td>\n",
              "      <td>DOWNREGULATION</td>\n",
              "    </tr>\n",
              "    <tr>\n",
              "      <th>ENSG00000166902</th>\n",
              "      <td>ENSG00000166902</td>\n",
              "      <td>MRPL16_TSS</td>\n",
              "      <td>DOWNREGULATION</td>\n",
              "    </tr>\n",
              "    <tr>\n",
              "      <th>ENSG00000172809</th>\n",
              "      <td>ENSG00000172809</td>\n",
              "      <td>RPL38_TSS</td>\n",
              "      <td>DOWNREGULATION</td>\n",
              "    </tr>\n",
              "    <tr>\n",
              "      <th>ENSG00000105298</th>\n",
              "      <td>ENSG00000105298</td>\n",
              "      <td>NO_GUIDE_TARGETING</td>\n",
              "      <td>NO_CHANGES</td>\n",
              "    </tr>\n",
              "    <tr>\n",
              "      <th>ENSG00000108389</th>\n",
              "      <td>ENSG00000108389</td>\n",
              "      <td>NO_GUIDE_TARGETING</td>\n",
              "      <td>NO_CHANGES</td>\n",
              "    </tr>\n",
              "    <tr>\n",
              "      <th>ENSG00000157985</th>\n",
              "      <td>ENSG00000157985</td>\n",
              "      <td>NO_GUIDE_TARGETING</td>\n",
              "      <td>NO_CHANGES</td>\n",
              "    </tr>\n",
              "    <tr>\n",
              "      <th>ENSG00000107731</th>\n",
              "      <td>ENSG00000107731</td>\n",
              "      <td>NO_GUIDE_TARGETING</td>\n",
              "      <td>NO_CHANGES</td>\n",
              "    </tr>\n",
              "    <tr>\n",
              "      <th>ENSG00000184357</th>\n",
              "      <td>ENSG00000184357</td>\n",
              "      <td>NO_GUIDE_TARGETING</td>\n",
              "      <td>NO_CHANGES</td>\n",
              "    </tr>\n",
              "    <tr>\n",
              "      <th>ENSG00000090060</th>\n",
              "      <td>ENSG00000090060</td>\n",
              "      <td>NO_GUIDE_TARGETING</td>\n",
              "      <td>NO_CHANGES</td>\n",
              "    </tr>\n",
              "    <tr>\n",
              "      <th>ENSG00000178988</th>\n",
              "      <td>ENSG00000178988</td>\n",
              "      <td>NO_GUIDE_TARGETING</td>\n",
              "      <td>NO_CHANGES</td>\n",
              "    </tr>\n",
              "    <tr>\n",
              "      <th>ENSG00000101745</th>\n",
              "      <td>ENSG00000101745</td>\n",
              "      <td>NO_GUIDE_TARGETING</td>\n",
              "      <td>NO_CHANGES</td>\n",
              "    </tr>\n",
              "    <tr>\n",
              "      <th>ENSG00000099330</th>\n",
              "      <td>ENSG00000099330</td>\n",
              "      <td>NO_GUIDE_TARGETING</td>\n",
              "      <td>NO_CHANGES</td>\n",
              "    </tr>\n",
              "    <tr>\n",
              "      <th>ENSG00000167895</th>\n",
              "      <td>ENSG00000167895</td>\n",
              "      <td>NO_GUIDE_TARGETING</td>\n",
              "      <td>NO_CHANGES</td>\n",
              "    </tr>\n",
              "    <tr>\n",
              "      <th>ENSG00000176658</th>\n",
              "      <td>ENSG00000176658</td>\n",
              "      <td>NO_GUIDE_TARGETING</td>\n",
              "      <td>NO_CHANGES</td>\n",
              "    </tr>\n",
              "    <tr>\n",
              "      <th>ENSG00000162384</th>\n",
              "      <td>ENSG00000162384</td>\n",
              "      <td>NO_GUIDE_TARGETING</td>\n",
              "      <td>NO_CHANGES</td>\n",
              "    </tr>\n",
              "    <tr>\n",
              "      <th>ENSG00000137463</th>\n",
              "      <td>ENSG00000137463</td>\n",
              "      <td>NO_GUIDE_TARGETING</td>\n",
              "      <td>NO_CHANGES</td>\n",
              "    </tr>\n",
              "    <tr>\n",
              "      <th>ENSG00000179598</th>\n",
              "      <td>ENSG00000179598</td>\n",
              "      <td>NO_GUIDE_TARGETING</td>\n",
              "      <td>NO_CHANGES</td>\n",
              "    </tr>\n",
              "    <tr>\n",
              "      <th>ENSG00000102119</th>\n",
              "      <td>ENSG00000102119</td>\n",
              "      <td>NO_GUIDE_TARGETING</td>\n",
              "      <td>NO_CHANGES</td>\n",
              "    </tr>\n",
              "  </tbody>\n",
              "</table>\n",
              "</div>\n",
              "      <button class=\"colab-df-convert\" onclick=\"convertToInteractive('df-9d45ed9d-c506-4493-bf25-92b75cff60b8')\"\n",
              "              title=\"Convert this dataframe to an interactive table.\"\n",
              "              style=\"display:none;\">\n",
              "        \n",
              "  <svg xmlns=\"http://www.w3.org/2000/svg\" height=\"24px\"viewBox=\"0 0 24 24\"\n",
              "       width=\"24px\">\n",
              "    <path d=\"M0 0h24v24H0V0z\" fill=\"none\"/>\n",
              "    <path d=\"M18.56 5.44l.94 2.06.94-2.06 2.06-.94-2.06-.94-.94-2.06-.94 2.06-2.06.94zm-11 1L8.5 8.5l.94-2.06 2.06-.94-2.06-.94L8.5 2.5l-.94 2.06-2.06.94zm10 10l.94 2.06.94-2.06 2.06-.94-2.06-.94-.94-2.06-.94 2.06-2.06.94z\"/><path d=\"M17.41 7.96l-1.37-1.37c-.4-.4-.92-.59-1.43-.59-.52 0-1.04.2-1.43.59L10.3 9.45l-7.72 7.72c-.78.78-.78 2.05 0 2.83L4 21.41c.39.39.9.59 1.41.59.51 0 1.02-.2 1.41-.59l7.78-7.78 2.81-2.81c.8-.78.8-2.07 0-2.86zM5.41 20L4 18.59l7.72-7.72 1.47 1.35L5.41 20z\"/>\n",
              "  </svg>\n",
              "      </button>\n",
              "      \n",
              "  <style>\n",
              "    .colab-df-container {\n",
              "      display:flex;\n",
              "      flex-wrap:wrap;\n",
              "      gap: 12px;\n",
              "    }\n",
              "\n",
              "    .colab-df-convert {\n",
              "      background-color: #E8F0FE;\n",
              "      border: none;\n",
              "      border-radius: 50%;\n",
              "      cursor: pointer;\n",
              "      display: none;\n",
              "      fill: #1967D2;\n",
              "      height: 32px;\n",
              "      padding: 0 0 0 0;\n",
              "      width: 32px;\n",
              "    }\n",
              "\n",
              "    .colab-df-convert:hover {\n",
              "      background-color: #E2EBFA;\n",
              "      box-shadow: 0px 1px 2px rgba(60, 64, 67, 0.3), 0px 1px 3px 1px rgba(60, 64, 67, 0.15);\n",
              "      fill: #174EA6;\n",
              "    }\n",
              "\n",
              "    [theme=dark] .colab-df-convert {\n",
              "      background-color: #3B4455;\n",
              "      fill: #D2E3FC;\n",
              "    }\n",
              "\n",
              "    [theme=dark] .colab-df-convert:hover {\n",
              "      background-color: #434B5C;\n",
              "      box-shadow: 0px 1px 3px 1px rgba(0, 0, 0, 0.15);\n",
              "      filter: drop-shadow(0px 1px 2px rgba(0, 0, 0, 0.3));\n",
              "      fill: #FFFFFF;\n",
              "    }\n",
              "  </style>\n",
              "\n",
              "      <script>\n",
              "        const buttonEl =\n",
              "          document.querySelector('#df-9d45ed9d-c506-4493-bf25-92b75cff60b8 button.colab-df-convert');\n",
              "        buttonEl.style.display =\n",
              "          google.colab.kernel.accessAllowed ? 'block' : 'none';\n",
              "\n",
              "        async function convertToInteractive(key) {\n",
              "          const element = document.querySelector('#df-9d45ed9d-c506-4493-bf25-92b75cff60b8');\n",
              "          const dataTable =\n",
              "            await google.colab.kernel.invokeFunction('convertToInteractive',\n",
              "                                                     [key], {});\n",
              "          if (!dataTable) return;\n",
              "\n",
              "          const docLinkHtml = 'Like what you see? Visit the ' +\n",
              "            '<a target=\"_blank\" href=https://colab.research.google.com/notebooks/data_table.ipynb>data table notebook</a>'\n",
              "            + ' to learn more about interactive tables.';\n",
              "          element.innerHTML = '';\n",
              "          dataTable['output_type'] = 'display_data';\n",
              "          await google.colab.output.renderOutput(dataTable, element);\n",
              "          const docLink = document.createElement('div');\n",
              "          docLink.innerHTML = docLinkHtml;\n",
              "          element.appendChild(docLink);\n",
              "        }\n",
              "      </script>\n",
              "    </div>\n",
              "  </div>\n",
              "  "
            ]
          },
          "metadata": {},
          "execution_count": 156
        }
      ]
    },
    {
      "cell_type": "code",
      "source": [
        "tested_gene = GENE\n",
        "#shufle this values to remove some cell bias? \n",
        "cells_with_guide_to_sample =    guide[guide[interest_guide] == 1].copy()\n",
        "cells_without_guide_to_sample = guide[guide[interest_guide] == 0].copy()\n",
        "\n",
        "cells_with_guide = cells_with_guide_to_sample.sample(cells_with_guide_to_sample.shape[0]).index\n",
        "cells_without_guide= cells_without_guide_to_sample.sample(cells_without_guide_to_sample.shape[0]).index\n",
        "guide_copy_to_shuffle = guide.copy()\n",
        "\n",
        "fold_change_list = []\n",
        "guide_list_generated = []\n",
        "\n",
        "\n",
        "for x in range(len(cells_with_guide)):\n",
        "    guide_copy_to_shuffle.loc[cells_with_guide[x]][interest_guide]    = 0  # swaping\n",
        "    guide_copy_to_shuffle.loc[cells_without_guide[x]][interest_guide]   = 1  # swaping\n",
        "    expression_no_guide_gene_x =   expression[tested_gene].loc[guide_copy_to_shuffle[guide_copy_to_shuffle[interest_guide] == 0].copy().index.values]\n",
        "    expression_with_guide_gene_x = expression[tested_gene].loc[guide_copy_to_shuffle[guide_copy_to_shuffle[interest_guide] == 1].copy().index.values]\n",
        "\n",
        "    fold_change = np.log2(expression_with_guide_gene_x.mean()/ expression_no_guide_gene_x.mean())\n",
        "    print (fold_change)\n",
        "    fold_change_list.append(fold_change)\n",
        "    guide_list_generated.append(guide_copy_to_shuffle[interest_guide].copy())\n",
        "\n",
        "no_swap_fc =  fold_change_list[0]\n",
        "all_swap_fc = fold_change_list[-1]\n",
        "\n",
        "\n",
        "plt.plot(fold_change_list)\n",
        "plt.ylabel(r'Log2(Guide/NonGuide)', fontsize=15)\n",
        "plt.xlabel('# of swaps', fontsize=15)\n",
        "plt.plot([0,plt.xlim()[1]], [0,0], linestyle='--')"
      ],
      "metadata": {
        "colab": {
          "base_uri": "https://localhost:8080/",
          "height": 1000
        },
        "id": "0DRZu47WqsF_",
        "outputId": "54eba52e-ae9c-45af-ce6d-7faedcce97ff"
      },
      "execution_count": null,
      "outputs": [
        {
          "output_type": "stream",
          "name": "stdout",
          "text": [
            "-1.619496246421171\n",
            "-1.5831707873269565\n",
            "-1.527867928996232\n",
            "-1.5180361233495048\n",
            "-1.5131449399361518\n",
            "-1.474600029171902\n",
            "-1.4416948503422908\n",
            "-1.4232224414221137\n",
            "-1.3825007254854849\n",
            "-1.3825007254854849\n",
            "-1.3472406874072183\n",
            "-1.3516013933967974\n",
            "-1.342892795762121\n",
            "-1.325631044385671\n",
            "-1.3043391839523544\n",
            "-1.2221689560790128\n",
            "-1.2181802505258774\n",
            "-1.1983998983422774\n",
            "-1.1983998983422774\n",
            "-1.1406285266112781\n",
            "-1.038586721338175\n",
            "-0.9935459670645895\n",
            "-0.9799641488896854\n",
            "-0.969860400594984\n",
            "-0.9631635196032529\n",
            "-0.9498619725956077\n",
            "-0.8978425437628066\n",
            "-0.8851241265083878\n",
            "-0.8851241265083878\n",
            "-0.8914694819309446\n",
            "-0.8631315131940878\n",
            "-0.860016825227214\n",
            "-0.8538072536572525\n",
            "-0.8445423804163825\n",
            "-0.8507123288780785\n",
            "-0.8383987068142748\n",
            "-0.8261885323204597\n",
            "-0.8170979332041937\n",
            "-0.820121747395513\n",
            "-0.7931310389706986\n",
            "-0.7754119814419276\n",
            "-0.7695535267120068\n",
            "-0.7695535267120068\n",
            "-0.7579067720984445\n",
            "-0.7521182387094857\n",
            "-0.7521182387094857\n",
            "-0.7291924225160983\n",
            "-0.7291924225160983\n",
            "-0.7263518884852784\n",
            "-0.7094250232382899\n",
            "-0.7038262417943966\n",
            "-0.7038262417943966\n",
            "-0.6871584772942563\n",
            "-0.6788958009146855\n",
            "-0.6706798761880832\n",
            "-0.65168814909568\n",
            "-0.6463072469099103\n",
            "-0.6356048506309924\n",
            "-0.624980873468036\n",
            "-0.6276295682186079\n",
            "-0.6679514319180222\n",
            "-0.624980873468036\n",
            "-0.6196978402069986\n",
            "-0.6091890360576828\n",
            "-0.56789825978161\n",
            "-0.4647825453923219\n",
            "-0.4766814403670886\n",
            "-0.4766814403670886\n",
            "-0.471910143309177\n",
            "-0.46953046498607204\n",
            "-0.46953046498607204\n",
            "-0.45298031661956134\n",
            "-0.45298031661956134\n",
            "-0.45298031661956134\n",
            "-0.4459447153381958\n",
            "-0.4459447153381958\n",
            "-0.4436070817258998\n",
            "-0.4342937822289908\n",
            "-0.42965943843104226\n",
            "-0.4342937822289908\n",
            "-0.4600501357859894\n",
            "-0.4436070817258998\n",
            "-0.4366165900490879\n",
            "-0.4319748476862439\n",
            "-0.4112683935811965\n",
            "-0.4089858682090841\n",
            "-0.39085285563349703\n",
            "-0.37294306894991064\n",
            "-0.3685000132901778\n",
            "-0.37071987401677875\n",
            "-0.35305493815355693\n",
            "-0.3486720296227431\n",
            "-0.3443022278867097\n",
            "-0.32264827908913507\n",
            "-0.31835590790687274\n",
            "-0.34212235490549675\n",
            "-0.33343499088747613\n",
            "-0.3098090166277778\n",
            "-0.3034316298565319\n",
            "-0.29708197348920085\n",
            "-0.29708197348920085\n",
            "-0.2886587931895353\n",
            "-0.2886587931895353\n",
            "-0.28028399355260136\n",
            "-0.25544514103595617\n",
            "-0.2149666268142517\n",
            "-0.21297186813799582\n",
            "-0.1971121385755884\n",
            "-0.20303930355364544\n",
            "-0.1971121385755884\n",
            "-0.19120883994566418\n",
            "-0.17752732596678739\n",
            "-0.1717027473692531\n",
            "-0.1678327985433737\n",
            "-0.1697665239840343\n",
            "-0.17558327309289476\n",
            "-0.17947390498599503\n",
            "-0.17364171750256763\n",
            "-0.17364171750256763\n",
            "-0.1678327985433737\n",
            "-0.1717027473692531\n",
            "-0.1678327985433737\n",
            "-0.15628402528969418\n",
            "-0.18142325855071226\n",
            "-0.15436801630088565\n",
            "-0.15436801630088565\n",
            "-0.14292512266481078\n",
            "-0.12780629363773108\n",
            "-0.12030549762734759\n",
            "-0.10912594863416114\n",
            "-0.09987498328728608\n",
            "-0.08702133881494088\n",
            "-0.07246892453005055\n",
            "-0.07246892453005055\n",
            "-0.06704909004970254\n",
            "-0.05985377801722881\n",
            "-0.052693990691623366\n",
            "-0.042019551067714885\n",
            "-0.03142289901534578\n",
            "-0.027907733923337678\n",
            "-0.026153327295335826\n",
            "-0.16397301427776106\n",
            "-0.15628402528969418\n",
            "-0.15436801630088565\n",
            "-0.13913071348243752\n",
            "-0.13157135037069106\n",
            "-0.1486353298421858\n",
            "-0.1486353298421858\n",
            "-0.1448260323718703\n",
            "-0.12592753107260568\n",
            "-0.14102659812803053\n",
            "-0.12780629363773108\n",
            "-0.09803171625216489\n",
            "-0.09803171625216489\n",
            "-0.09251612535248185\n",
            "-0.08885062890454395\n",
            "-0.07428011121874899\n",
            "-0.07246892453005055\n",
            "-0.0779089958721631\n",
            "-0.06885354784147826\n",
            "-0.06704909004970254\n",
            "-0.05985377801722881\n",
            "-0.036711593601927384\n",
            "-0.01567099998735349\n",
            "-8.751650077128507e-05\n",
            "-8.751650077128507e-05\n",
            "0.00335313926265546\n",
            "0.005070174625910117\n",
            "0.005070174625910117\n",
            "0.008498693079422415\n",
            "0.008498693079422415\n",
            "0.006785525479153139\n",
            "0.001633910491906548\n",
            "-0.005263521603796793\n",
            "0.008498693079422415\n",
            "0.035639234761014695\n",
            "0.04234611891012487\n",
            "0.04401803215457152\n",
            "0.049022295867870595\n",
            "0.08682842947892239\n",
            "0.09168833327488105\n",
            "0.13314164218852076\n",
            "0.13314164218852076\n",
            "0.14877673836819705\n",
            "0.16424624851241706\n",
            "0.1703883764070259\n",
            "0.17955336722916224\n",
            "0.18563155402810605\n",
            "0.18866117286178372\n",
            "0.18866117286178372\n",
            "0.19168468536906133\n",
            "0.1947017808055949\n",
            "0.1901737856327517\n",
            "0.1947017808055949\n",
            "0.1962080040960717\n",
            "0.20221738434391393\n",
            "0.21118531902800508\n",
            "0.21267478714559815\n",
            "0.21416242386274353\n",
            "0.20969447567073102\n",
            "0.22009865256331693\n",
            "0.23629953698868242\n",
            "0.24506120195445072\n",
            "0.25377075933778775\n",
            "0.2566624132464279\n",
            "0.2653031315175663\n"
          ]
        },
        {
          "output_type": "execute_result",
          "data": {
            "text/plain": [
              "[<matplotlib.lines.Line2D at 0x7fe7541727d0>]"
            ]
          },
          "metadata": {},
          "execution_count": 173
        },
        {
          "output_type": "display_data",
          "data": {
            "text/plain": [
              "<Figure size 432x288 with 1 Axes>"
            ],
            "image/png": "[encoded data removed]"
          },
          "metadata": {
            "needs_background": "light"
          }
        }
      ]
    },
    {
      "cell_type": "code",
      "source": [
        "def create_interval(max_fc, min_fc, steps=10):\n",
        "  interval_in = (max_fc - min_fc) / steps\n",
        "  return [min_fc + (interval_in  * x) for x in range(0, steps)]"
      ],
      "metadata": {
        "id": "-L_x5b2Dq4yv"
      },
      "execution_count": null,
      "outputs": []
    },
    {
      "cell_type": "code",
      "source": [
        "out_interval = create_interval(fold_change_list[-1]\n",
        "                ,fold_change_list[0],\n",
        "                10)"
      ],
      "metadata": {
        "id": "54CDY4Twq72e"
      },
      "execution_count": null,
      "outputs": []
    },
    {
      "cell_type": "code",
      "source": [
        "def closest_fold_change(fold_change_list, generated_interval):\n",
        "  return_index_use = []\n",
        "  for i in generated_interval:\n",
        "    \n",
        "    index_closest = np.argmin(np.abs(np.array(fold_change_list) - i))\n",
        "    final_value = [fold_change_list[index_closest], i , index_closest]\n",
        "    return_index_use.append(final_value)\n",
        "  return return_index_use\n",
        "\n",
        "\n",
        "fold_choices = closest_fold_change(fold_change_list, out_interval)"
      ],
      "metadata": {
        "id": "Cbu8bLl2q-V-"
      },
      "execution_count": null,
      "outputs": []
    },
    {
      "cell_type": "code",
      "source": [
        "fold_choices"
      ],
      "metadata": {
        "colab": {
          "base_uri": "https://localhost:8080/"
        },
        "id": "D7MFstTerAvJ",
        "outputId": "dad0c512-1afa-402d-b19c-16d0a7200cce"
      },
      "execution_count": null,
      "outputs": [
        {
          "output_type": "execute_result",
          "data": {
            "text/plain": [
              "[[-1.619496246421171, -1.619496246421171, 0],\n",
              " [-1.4232224414221137, -1.4310163086272973, 7],\n",
              " [-1.2221689560790128, -1.2425363708334236, 15],\n",
              " [-1.038586721338175, -1.0540564330395499, 20],\n",
              " [-0.8631315131940878, -0.8655764952456761, 30],\n",
              " [-0.6788958009146855, -0.6770965574518024, 53],\n",
              " [-0.4766814403670886, -0.4886166196579287, 66],\n",
              " [-0.29708197348920085, -0.30013668186405495, 99],\n",
              " [-0.10912594863416114, -0.11165674407018122, 129],\n",
              " [0.08682842947892239, 0.0768231937236925, 179]]"
            ]
          },
          "metadata": {},
          "execution_count": 177
        }
      ]
    },
    {
      "cell_type": "code",
      "source": [
        ""
      ],
      "metadata": {
        "id": "PKwUqI-P_aX_"
      },
      "execution_count": null,
      "outputs": []
    },
    {
      "cell_type": "code",
      "source": [
        "#creating pair test file\n",
        "pd.DataFrame(\n",
        "    {'gene_id':[GENE],'gRNA_group':[interest_guide], 'pair_type':['add_test_tag_type']}\n",
        ").to_csv('pairs_test.txt', sep='\\t',index=None)\n",
        "\n"
      ],
      "metadata": {
        "id": "vtwkNdqf-PtB"
      },
      "execution_count": null,
      "outputs": []
    },
    {
      "cell_type": "code",
      "source": [
        "\n",
        "def run_sceptre(input_guide_list_generated, gene):\n",
        "  GENE = gene\n",
        "  tested_gene = GENE\n",
        "  exp_one_column_file = f'{GENE}__exp_one_gene_guide.txt'\n",
        "  expression[tested_gene].to_csv(exp_one_column_file)\n",
        "  input_guide_list_generated.to_csv('guide_use.txt')\n",
        " \n",
        "\n",
        "  r=f'''library(sceptre)\n",
        "  library(dplyr)\n",
        "  exp = read.table(\"{exp_one_column_file}\", sep=',' ,header=TRUE, row.names=1)\n",
        "  \n",
        "  g_I = read.table(\"guide_use.txt\",   sep=',', header=TRUE, row.names=1)\n",
        "  \n",
        "  cov = read.table(\"covariates.txt\", sep='\\t', header=TRUE, row.names=1)\n",
        "  pairs_test = read.table(\"pairs_test.txt\", sep='\\t', header=TRUE)\n",
        "  result <- run_sceptre_high_moi(gene_matrix = t(exp), \n",
        "                                        combined_perturbation_matrix = t(g_I), \n",
        "                                        covariate_matrix = cov,\n",
        "                                        gene_gRNA_group_pairs = pairs_test,\n",
        "                                        B = 500,\n",
        "                                        side=\"left\",\n",
        "                                        seed = 1234)\n",
        "\n",
        "  result$p_value\n",
        "  result$z_value\n",
        "  #> Running gRNA precomputation.'''\n",
        "\n",
        "  file_save = open('r_script.r', 'w')\n",
        "  file_save.write(r)\n",
        "  file_save.close()\n",
        "\n",
        "\n",
        "  r_out = !Rscript r_script.r\n",
        "  p_value = float(r_out[-3].split(' ')[-1])\n",
        "\n",
        "  return p_value\n"
      ],
      "metadata": {
        "id": "EaPrAd15rGso"
      },
      "execution_count": null,
      "outputs": []
    },
    {
      "cell_type": "code",
      "source": [
        "plot_pvalues = [ [run_sceptre(guide_list_generated[index_fc], GENE), fold_final]  for fold_final,target_fc,index_fc in fold_choices ]"
      ],
      "metadata": {
        "id": "gDLybBKGDg3D"
      },
      "execution_count": null,
      "outputs": []
    },
    {
      "cell_type": "code",
      "source": [
        "plot_info = [ [index_fc,fold_final]  for fold_final,target_fc,index_fc in fold_choices ]"
      ],
      "metadata": {
        "id": "Q8GF7PI_NDsO"
      },
      "execution_count": null,
      "outputs": []
    },
    {
      "cell_type": "code",
      "source": [
        "plt.plot([x[1] for x in plot_pvalues],[ -np.log(x[0]) for x in plot_pvalues] )\n",
        "\n",
        "plt.scatter([x[1] for x in plot_pvalues],[ -np.log(x[0]) for x in plot_pvalues] )\n",
        "\n",
        "plt.plot([plt.xlim()[0], plt.xlim()[1]], [-np.log(0.05), -np.log(0.05)] , linestyle='--')\n",
        "\n",
        "for x_t,y_t,n_t in  zip([x[1] for x in plot_pvalues],\n",
        "                        [ -np.log(x[0]) for x in plot_pvalues],\n",
        "                        [ x[0] for x in plot_info] ):\n",
        "    plt.text(x_t,y_t-2,n_t)\n",
        "\n",
        "\n",
        "plot_info\n",
        "\n",
        "plt.ylabel('-log(p-value Sceptre)')\n",
        "plt.xlabel('Fold change interval')\n",
        "plt.title(GENE)"
      ],
      "metadata": {
        "colab": {
          "base_uri": "https://localhost:8080/",
          "height": 312
        },
        "id": "hFwczNtrrTAP",
        "outputId": "7d003cb4-e77e-46d2-98c7-55a70e2a0a69"
      },
      "execution_count": null,
      "outputs": [
        {
          "output_type": "execute_result",
          "data": {
            "text/plain": [
              "Text(0.5, 1.0, 'ENSG00000111057')"
            ]
          },
          "metadata": {},
          "execution_count": 182
        },
        {
          "output_type": "display_data",
          "data": {
            "text/plain": [
              "<Figure size 432x288 with 1 Axes>"
            ],
            "image/png": "[encoded data removed]"
          },
          "metadata": {
            "needs_background": "light"
          }
        }
      ]
    },
    {
      "cell_type": "code",
      "source": [
        ""
      ],
      "metadata": {
        "id": "ZhspiaJ6L_gj"
      },
      "execution_count": null,
      "outputs": []
    },
    {
      "cell_type": "code",
      "source": [
        ""
      ],
      "metadata": {
        "id": "oLrmevaANRGd"
      },
      "execution_count": null,
      "outputs": []
    }
  ],
  "metadata": {
    "colab": {
      "name": "Simulation_sceptre_shendure_Data_01.ipynb",
      "provenance": [],
      "collapsed_sections": [],
      "include_colab_link": true
    },
    "kernelspec": {
      "display_name": "Python 3",
      "name": "python3"
    },
    "language_info": {
      "name": "python"
    }
  },
  "nbformat": 4,
  "nbformat_minor": 0
}